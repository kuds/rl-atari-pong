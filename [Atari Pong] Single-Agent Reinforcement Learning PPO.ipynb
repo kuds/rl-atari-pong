{
  "nbformat": 4,
  "nbformat_minor": 0,
  "metadata": {
    "colab": {
      "provenance": [],
      "gpuType": "L4",
      "machine_shape": "hm",
      "authorship_tag": "ABX9TyNxF1gJzx0UV1u6E4mVNL1E",
      "include_colab_link": true
    },
    "kernelspec": {
      "name": "python3",
      "display_name": "Python 3"
    },
    "language_info": {
      "name": "python"
    },
    "accelerator": "GPU"
  },
  "cells": [
    {
      "cell_type": "markdown",
      "metadata": {
        "id": "view-in-github",
        "colab_type": "text"
      },
      "source": [
        "<a href=\"https://colab.research.google.com/github/kuds/rl-atari-pong/blob/main/%5BAtari%20Pong%5D%20Single-Agent%20Reinforcement%20Learning%20PPO.ipynb\" target=\"_parent\"><img src=\"https://colab.research.google.com/assets/colab-badge.svg\" alt=\"Open In Colab\"/></a>"
      ]
    },
    {
      "cell_type": "markdown",
      "source": [
        "# [Atari Pong] Single-Agent Reinforcement Learning PPO"
      ],
      "metadata": {
        "id": "ob-2hGT3jNdX"
      }
    },
    {
      "cell_type": "code",
      "source": [
        "!pip install swig"
      ],
      "metadata": {
        "id": "Fy1WJ1R-iP4V",
        "colab": {
          "base_uri": "https://localhost:8080/"
        },
        "outputId": "f0d16066-e172-4e2f-acea-ecf57a5cbe03"
      },
      "execution_count": 1,
      "outputs": [
        {
          "output_type": "stream",
          "name": "stdout",
          "text": [
            "Requirement already satisfied: swig in /usr/local/lib/python3.12/dist-packages (4.3.1.post0)\n"
          ]
        }
      ]
    },
    {
      "cell_type": "code",
      "source": [
        "!pip install stable-baselines3"
      ],
      "metadata": {
        "id": "7U_qTvGlj2oy",
        "colab": {
          "base_uri": "https://localhost:8080/"
        },
        "outputId": "b5acd0e3-309f-4f30-b661-33f40d12fad8"
      },
      "execution_count": 2,
      "outputs": [
        {
          "output_type": "stream",
          "name": "stdout",
          "text": [
            "Requirement already satisfied: stable-baselines3 in /usr/local/lib/python3.12/dist-packages (2.7.0)\n",
            "Requirement already satisfied: gymnasium<1.3.0,>=0.29.1 in /usr/local/lib/python3.12/dist-packages (from stable-baselines3) (1.2.1)\n",
            "Requirement already satisfied: numpy<3.0,>=1.20 in /usr/local/lib/python3.12/dist-packages (from stable-baselines3) (2.0.2)\n",
            "Requirement already satisfied: torch<3.0,>=2.3 in /usr/local/lib/python3.12/dist-packages (from stable-baselines3) (2.8.0+cu126)\n",
            "Requirement already satisfied: cloudpickle in /usr/local/lib/python3.12/dist-packages (from stable-baselines3) (3.1.1)\n",
            "Requirement already satisfied: pandas in /usr/local/lib/python3.12/dist-packages (from stable-baselines3) (2.2.2)\n",
            "Requirement already satisfied: matplotlib in /usr/local/lib/python3.12/dist-packages (from stable-baselines3) (3.10.0)\n",
            "Requirement already satisfied: typing-extensions>=4.3.0 in /usr/local/lib/python3.12/dist-packages (from gymnasium<1.3.0,>=0.29.1->stable-baselines3) (4.15.0)\n",
            "Requirement already satisfied: farama-notifications>=0.0.1 in /usr/local/lib/python3.12/dist-packages (from gymnasium<1.3.0,>=0.29.1->stable-baselines3) (0.0.4)\n",
            "Requirement already satisfied: filelock in /usr/local/lib/python3.12/dist-packages (from torch<3.0,>=2.3->stable-baselines3) (3.20.0)\n",
            "Requirement already satisfied: setuptools in /usr/local/lib/python3.12/dist-packages (from torch<3.0,>=2.3->stable-baselines3) (75.2.0)\n",
            "Requirement already satisfied: sympy>=1.13.3 in /usr/local/lib/python3.12/dist-packages (from torch<3.0,>=2.3->stable-baselines3) (1.13.3)\n",
            "Requirement already satisfied: networkx in /usr/local/lib/python3.12/dist-packages (from torch<3.0,>=2.3->stable-baselines3) (3.5)\n",
            "Requirement already satisfied: jinja2 in /usr/local/lib/python3.12/dist-packages (from torch<3.0,>=2.3->stable-baselines3) (3.1.6)\n",
            "Requirement already satisfied: fsspec in /usr/local/lib/python3.12/dist-packages (from torch<3.0,>=2.3->stable-baselines3) (2025.3.0)\n",
            "Requirement already satisfied: nvidia-cuda-nvrtc-cu12==12.6.77 in /usr/local/lib/python3.12/dist-packages (from torch<3.0,>=2.3->stable-baselines3) (12.6.77)\n",
            "Requirement already satisfied: nvidia-cuda-runtime-cu12==12.6.77 in /usr/local/lib/python3.12/dist-packages (from torch<3.0,>=2.3->stable-baselines3) (12.6.77)\n",
            "Requirement already satisfied: nvidia-cuda-cupti-cu12==12.6.80 in /usr/local/lib/python3.12/dist-packages (from torch<3.0,>=2.3->stable-baselines3) (12.6.80)\n",
            "Requirement already satisfied: nvidia-cudnn-cu12==9.10.2.21 in /usr/local/lib/python3.12/dist-packages (from torch<3.0,>=2.3->stable-baselines3) (9.10.2.21)\n",
            "Requirement already satisfied: nvidia-cublas-cu12==12.6.4.1 in /usr/local/lib/python3.12/dist-packages (from torch<3.0,>=2.3->stable-baselines3) (12.6.4.1)\n",
            "Requirement already satisfied: nvidia-cufft-cu12==11.3.0.4 in /usr/local/lib/python3.12/dist-packages (from torch<3.0,>=2.3->stable-baselines3) (11.3.0.4)\n",
            "Requirement already satisfied: nvidia-curand-cu12==10.3.7.77 in /usr/local/lib/python3.12/dist-packages (from torch<3.0,>=2.3->stable-baselines3) (10.3.7.77)\n",
            "Requirement already satisfied: nvidia-cusolver-cu12==11.7.1.2 in /usr/local/lib/python3.12/dist-packages (from torch<3.0,>=2.3->stable-baselines3) (11.7.1.2)\n",
            "Requirement already satisfied: nvidia-cusparse-cu12==12.5.4.2 in /usr/local/lib/python3.12/dist-packages (from torch<3.0,>=2.3->stable-baselines3) (12.5.4.2)\n",
            "Requirement already satisfied: nvidia-cusparselt-cu12==0.7.1 in /usr/local/lib/python3.12/dist-packages (from torch<3.0,>=2.3->stable-baselines3) (0.7.1)\n",
            "Requirement already satisfied: nvidia-nccl-cu12==2.27.3 in /usr/local/lib/python3.12/dist-packages (from torch<3.0,>=2.3->stable-baselines3) (2.27.3)\n",
            "Requirement already satisfied: nvidia-nvtx-cu12==12.6.77 in /usr/local/lib/python3.12/dist-packages (from torch<3.0,>=2.3->stable-baselines3) (12.6.77)\n",
            "Requirement already satisfied: nvidia-nvjitlink-cu12==12.6.85 in /usr/local/lib/python3.12/dist-packages (from torch<3.0,>=2.3->stable-baselines3) (12.6.85)\n",
            "Requirement already satisfied: nvidia-cufile-cu12==1.11.1.6 in /usr/local/lib/python3.12/dist-packages (from torch<3.0,>=2.3->stable-baselines3) (1.11.1.6)\n",
            "Requirement already satisfied: triton==3.4.0 in /usr/local/lib/python3.12/dist-packages (from torch<3.0,>=2.3->stable-baselines3) (3.4.0)\n",
            "Requirement already satisfied: contourpy>=1.0.1 in /usr/local/lib/python3.12/dist-packages (from matplotlib->stable-baselines3) (1.3.3)\n",
            "Requirement already satisfied: cycler>=0.10 in /usr/local/lib/python3.12/dist-packages (from matplotlib->stable-baselines3) (0.12.1)\n",
            "Requirement already satisfied: fonttools>=4.22.0 in /usr/local/lib/python3.12/dist-packages (from matplotlib->stable-baselines3) (4.60.1)\n",
            "Requirement already satisfied: kiwisolver>=1.3.1 in /usr/local/lib/python3.12/dist-packages (from matplotlib->stable-baselines3) (1.4.9)\n",
            "Requirement already satisfied: packaging>=20.0 in /usr/local/lib/python3.12/dist-packages (from matplotlib->stable-baselines3) (25.0)\n",
            "Requirement already satisfied: pillow>=8 in /usr/local/lib/python3.12/dist-packages (from matplotlib->stable-baselines3) (11.3.0)\n",
            "Requirement already satisfied: pyparsing>=2.3.1 in /usr/local/lib/python3.12/dist-packages (from matplotlib->stable-baselines3) (3.2.5)\n",
            "Requirement already satisfied: python-dateutil>=2.7 in /usr/local/lib/python3.12/dist-packages (from matplotlib->stable-baselines3) (2.9.0.post0)\n",
            "Requirement already satisfied: pytz>=2020.1 in /usr/local/lib/python3.12/dist-packages (from pandas->stable-baselines3) (2025.2)\n",
            "Requirement already satisfied: tzdata>=2022.7 in /usr/local/lib/python3.12/dist-packages (from pandas->stable-baselines3) (2025.2)\n",
            "Requirement already satisfied: six>=1.5 in /usr/local/lib/python3.12/dist-packages (from python-dateutil>=2.7->matplotlib->stable-baselines3) (1.17.0)\n",
            "Requirement already satisfied: mpmath<1.4,>=1.1.0 in /usr/local/lib/python3.12/dist-packages (from sympy>=1.13.3->torch<3.0,>=2.3->stable-baselines3) (1.3.0)\n",
            "Requirement already satisfied: MarkupSafe>=2.0 in /usr/local/lib/python3.12/dist-packages (from jinja2->torch<3.0,>=2.3->stable-baselines3) (3.0.3)\n"
          ]
        }
      ]
    },
    {
      "cell_type": "code",
      "source": [
        "!pip install gymnasium[atari] ale-py"
      ],
      "metadata": {
        "id": "Le7dztPUkVz4",
        "colab": {
          "base_uri": "https://localhost:8080/"
        },
        "outputId": "8d65e59f-1a46-4691-db09-ff621ab5f083"
      },
      "execution_count": 3,
      "outputs": [
        {
          "output_type": "stream",
          "name": "stdout",
          "text": [
            "Requirement already satisfied: ale-py in /usr/local/lib/python3.12/dist-packages (0.11.2)\n",
            "Requirement already satisfied: gymnasium[atari] in /usr/local/lib/python3.12/dist-packages (1.2.1)\n",
            "Requirement already satisfied: numpy>=1.21.0 in /usr/local/lib/python3.12/dist-packages (from gymnasium[atari]) (2.0.2)\n",
            "Requirement already satisfied: cloudpickle>=1.2.0 in /usr/local/lib/python3.12/dist-packages (from gymnasium[atari]) (3.1.1)\n",
            "Requirement already satisfied: typing-extensions>=4.3.0 in /usr/local/lib/python3.12/dist-packages (from gymnasium[atari]) (4.15.0)\n",
            "Requirement already satisfied: farama-notifications>=0.0.1 in /usr/local/lib/python3.12/dist-packages (from gymnasium[atari]) (0.0.4)\n"
          ]
        }
      ]
    },
    {
      "cell_type": "code",
      "source": [
        "import os\n",
        "import csv\n",
        "import time\n",
        "import json\n",
        "import platform\n",
        "import torch\n",
        "import numpy\n",
        "import stable_baselines3\n",
        "from stable_baselines3 import PPO\n",
        "from stable_baselines3.common.env_util import make_atari_env\n",
        "from stable_baselines3.common.vec_env import VecFrameStack\n",
        "from stable_baselines3.common.evaluation import evaluate_policy\n",
        "from stable_baselines3.common.callbacks import EvalCallback\n",
        "from stable_baselines3.common.env_util import make_vec_env\n",
        "from stable_baselines3.common.callbacks import CallbackList\n",
        "from stable_baselines3.common.callbacks import BaseCallback\n",
        "from stable_baselines3.common.callbacks import CheckpointCallback\n",
        "from stable_baselines3.common.vec_env import VecVideoRecorder\n",
        "from stable_baselines3.common.vec_env import VecTransposeImage\n",
        "import matplotlib.pyplot\n",
        "import matplotlib\n",
        "import ale_py\n",
        "import gymnasium\n",
        "from importlib.metadata import version\n",
        "from datetime import datetime\n",
        "import google.colab.drive"
      ],
      "metadata": {
        "id": "o89JlEiexh1-",
        "colab": {
          "base_uri": "https://localhost:8080/"
        },
        "outputId": "fd7de9b6-ff32-46d7-c78f-67b4cddf0017"
      },
      "execution_count": 4,
      "outputs": [
        {
          "output_type": "stream",
          "name": "stderr",
          "text": [
            "Gym has been unmaintained since 2022 and does not support NumPy 2.0 amongst other critical functionality.\n",
            "Please upgrade to Gymnasium, the maintained drop-in replacement of Gym, or contact the authors of your software and request that they upgrade.\n",
            "See the migration guide at https://gymnasium.farama.org/introduction/migration_guide/ for additional information.\n",
            "/usr/local/lib/python3.12/dist-packages/jupyter_client/session.py:203: DeprecationWarning: datetime.datetime.utcnow() is deprecated and scheduled for removal in a future version. Use timezone-aware objects to represent datetimes in UTC: datetime.datetime.now(datetime.UTC).\n",
            "  return datetime.utcnow().replace(tzinfo=utc)\n"
          ]
        }
      ]
    },
    {
      "cell_type": "code",
      "source": [
        "print(f\"Python Version: {platform.python_version()}\")\n",
        "print(f\"Torch Version: {version('torch')}\")\n",
        "print(f\"Is Cuda Available: {torch.cuda.is_available()}\")\n",
        "print(f\"Cuda Version: {torch.version.cuda}\")\n",
        "if torch.cuda.is_available(): print(f\"GPU Device: {torch.cuda.get_device_name(0)}\")\n",
        "print(f\"Gymnasium Version: {version('gymnasium')}\")\n",
        "print(f\"Numpy Version: {version('numpy')}\")\n",
        "print(f\"Scipy Version: {version('scipy')}\")\n",
        "print(f\"Swig Version: {version('swig')}\")\n",
        "print(f\"Stable Baselines3 Version: {version('stable_baselines3')}\")\n",
        "print(f\"ALE Version: {version('ale_py')}\")"
      ],
      "metadata": {
        "id": "KRrJSPuDiDN4",
        "colab": {
          "base_uri": "https://localhost:8080/"
        },
        "outputId": "953e4170-b382-4ceb-a207-6405a8aabb28"
      },
      "execution_count": 5,
      "outputs": [
        {
          "output_type": "stream",
          "name": "stdout",
          "text": [
            "Python Version: 3.12.12\n",
            "Torch Version: 2.8.0+cu126\n",
            "Is Cuda Available: True\n",
            "Cuda Version: 12.6\n",
            "GPU Device: NVIDIA L4\n",
            "Gymnasium Version: 1.2.1\n",
            "Numpy Version: 2.0.2\n",
            "Scipy Version: 1.16.2\n",
            "Swig Version: 4.3.1.post0\n",
            "Stable Baselines3 Version: 2.7.0\n",
            "ALE Version: 0.11.2\n"
          ]
        }
      ]
    },
    {
      "cell_type": "code",
      "source": [
        "gdrive_path = \"/content/gdrive\"\n",
        "google.colab.drive.mount(gdrive_path, force_remount=True)"
      ],
      "metadata": {
        "colab": {
          "base_uri": "https://localhost:8080/"
        },
        "id": "8WkaauEBoH_c",
        "outputId": "5dc42796-92f4-468f-cf1f-42995b46698f"
      },
      "execution_count": 6,
      "outputs": [
        {
          "output_type": "stream",
          "name": "stdout",
          "text": [
            "Mounted at /content/gdrive\n"
          ]
        }
      ]
    },
    {
      "cell_type": "code",
      "source": [
        "rl_type = \"PPO\"\n",
        "env_str =  \"PongNoFrameskip-v4\" #\"ALE/Pong-v5\"\n",
        "name_prefix = \"atari_pong_ppo\"\n",
        "log_dir = \"\"\n",
        "parent_path = \"\"\n",
        "use_google_drive = True\n",
        "if use_google_drive:\n",
        "    parent_path = \"/content/gdrive\"\n",
        "    google.colab.drive.mount(parent_path, force_remount=True)\n",
        "    log_dir = \"{}/MyDrive/Finding Theta/logs/{}/{}\".format(parent_path,\n",
        "                                                       env_str,\n",
        "                                                       rl_type)\n",
        "else:\n",
        "    log_dir = \"/content/logs/{}/{}\".format(env_str, rl_type)"
      ],
      "metadata": {
        "id": "aR7w3BqcFiIO",
        "colab": {
          "base_uri": "https://localhost:8080/"
        },
        "outputId": "619d974d-7e48-46e1-8b70-b796e8186ce8"
      },
      "execution_count": 7,
      "outputs": [
        {
          "output_type": "stream",
          "name": "stdout",
          "text": [
            "Mounted at /content/gdrive\n"
          ]
        }
      ]
    },
    {
      "cell_type": "code",
      "source": [
        "training_data_path = os.path.join(log_dir, \"training jobs\")\n",
        "time_folder = datetime.now().strftime('%Y-%m-%d %H:%M:%S')\n",
        "model_folder_path = os.path.join(log_dir, \"training jobs\", time_folder)"
      ],
      "metadata": {
        "id": "SGVumeOw6JxN"
      },
      "execution_count": 8,
      "outputs": []
    },
    {
      "cell_type": "code",
      "source": [
        "#Create Folders\n",
        "os.makedirs(log_dir, exist_ok=True)\n",
        "os.makedirs(training_data_path, exist_ok=True)\n",
        "os.makedirs(model_folder_path, exist_ok=True)"
      ],
      "metadata": {
        "id": "vC3zncEXIuBf"
      },
      "execution_count": 9,
      "outputs": []
    },
    {
      "cell_type": "code",
      "source": [
        "env = make_atari_env(env_str, n_envs=1, seed=0)\n",
        "print(\"Observation Space Size: \", env.observation_space.shape)\n",
        "print('Actions Space: ', env.action_space)\n",
        "env.close()"
      ],
      "metadata": {
        "colab": {
          "base_uri": "https://localhost:8080/"
        },
        "id": "T78JvLBVdmQO",
        "outputId": "f5cb6261-dc70-4ce9-ba98-7a14bcfecb85"
      },
      "execution_count": 10,
      "outputs": [
        {
          "output_type": "stream",
          "name": "stdout",
          "text": [
            "Observation Space Size:  (84, 84, 1)\n",
            "Actions Space:  Discrete(6)\n"
          ]
        }
      ]
    },
    {
      "cell_type": "code",
      "source": [
        "env = gymnasium.make(env_str)\n",
        "print(\"Observation Space Size: \", env.observation_space.shape)\n",
        "print('Actions Space: ', env.action_space)\n",
        "env.close()"
      ],
      "metadata": {
        "colab": {
          "base_uri": "https://localhost:8080/"
        },
        "id": "5vCHAlsgg3lu",
        "outputId": "7ea8c833-7388-407b-9fdf-ceaab8c49a43"
      },
      "execution_count": 11,
      "outputs": [
        {
          "output_type": "stream",
          "name": "stdout",
          "text": [
            "Observation Space Size:  (210, 160, 3)\n",
            "Actions Space:  Discrete(6)\n"
          ]
        }
      ]
    },
    {
      "cell_type": "code",
      "source": [
        "# Use Hyperparameters from RL Zoo\n",
        "hyperparams = {\n",
        "    \"env_str\": env_str,\n",
        "    \"rl_type\": rl_type,\n",
        "    \"eval_freq\": 50_000,\n",
        "    \"total_timesteps\": 4_000_000,\n",
        "    \"clip_range\": 0.1,\n",
        "    \"learning_rate\": 2.5e-4,\n",
        "    \"n_steps\": 128,\n",
        "    \"n_epochs\": 4,\n",
        "    \"n_envs\": 8,\n",
        "    \"batch_size\": 256,\n",
        "    \"ent_coef\": 0.01,\n",
        "    \"vf_coef\": 0.5,\n",
        "}\n",
        "\n",
        "# https://github.com/DLR-RM/rl-baselines3-zoo/blob/master/hyperparams/ppo.yml\n",
        "# atari:\n",
        "#   env_wrapper:\n",
        "#     - stable_baselines3.common.atari_wrappers.AtariWrapper\n",
        "#   frame_stack: 4\n",
        "#   policy: 'CnnPolicy'\n",
        "#   n_envs: 8\n",
        "#   n_steps: 128\n",
        "#   n_epochs: 4\n",
        "#   batch_size: 256\n",
        "#   n_timesteps: !!float 1e7\n",
        "#   learning_rate: lin_2.5e-4\n",
        "#   clip_range: lin_0.1\n",
        "#   vf_coef: 0.5\n",
        "#   ent_coef: 0.01"
      ],
      "metadata": {
        "id": "V4PtNPT9Iye3"
      },
      "execution_count": 12,
      "outputs": []
    },
    {
      "cell_type": "code",
      "source": [
        "# Evaluation Environment Wrapper Arguments\n",
        "# Disable Frame Skipping\n",
        "# Disable Noop Max\n",
        "# https://danieltakeshi.github.io/2016/11/25/frame-skipping-and-preprocessing-for-deep-q-networks-on-atari-2600-games/\n",
        "# https://stable-baselines3.readthedocs.io/en/master/common/atari_wrappers.html\n",
        "\n",
        "# Training Aruguments\n",
        "env_wrap_args = {\"frame_skip\": 4}\n",
        "env_kwargs = {\"render_mode\": \"rgb_array\"}\n",
        "\n",
        "# Evaluation Aruguments\n",
        "env_val_wrap_args = {\"frame_skip\": 4, \"noop_max\": 30}\n",
        "env_val_kwargs = {\"render_mode\": \"rgb_array\"}\n",
        "\n",
        "if(env_str == \"ALE/Pong-v5\"):\n",
        "  env_wrap_args[\"frame_skip\"] = 0\n",
        "  env_val_kwargs[\"frameskip\"] = 32\n",
        "  env_val_kwargs[\"repeat_action_probability\"] = 0.0"
      ],
      "metadata": {
        "id": "ldok-8n-JZJe"
      },
      "execution_count": 13,
      "outputs": []
    },
    {
      "cell_type": "code",
      "source": [
        "with open(os.path.join(model_folder_path, 'parameters.json'), 'w') as fp:\n",
        "    parameters = {\"hyperparams\": hyperparams,\n",
        "                  \"env_wrap_args\": env_wrap_args,\n",
        "                  \"env_kwargs\": env_kwargs,\n",
        "                  \"env_val_wrap_args\": env_val_wrap_args,\n",
        "                  \"env_val_kwargs\": env_val_kwargs}\n",
        "    json.dump(parameters, fp, indent=4)"
      ],
      "metadata": {
        "id": "PXxtJfrvJbFM"
      },
      "execution_count": 14,
      "outputs": []
    },
    {
      "cell_type": "code",
      "source": [
        "class VideoRecordCallback(BaseCallback):\n",
        "    def __init__(\n",
        "        self,\n",
        "        save_path: str,\n",
        "        video_length: int,\n",
        "        save_freq: int = 5_000,\n",
        "        name_prefix: str =\"rl_model\",\n",
        "        verbose: int = 0):\n",
        "\n",
        "        super().__init__(verbose)\n",
        "        self.save_freq = save_freq\n",
        "        self.video_length = video_length\n",
        "        self.save_path = save_path\n",
        "        self.name_prefix = name_prefix\n",
        "        # Those variables will be accessible in the callback\n",
        "        # (they are defined in the base class)\n",
        "        # The RL model\n",
        "        # self.model = None  # type: BaseAlgorithm\n",
        "        # An alias for self.model.get_env(), the environment used for training\n",
        "        # self.training_env # type: VecEnv\n",
        "        # Number of time the callback was called\n",
        "        # self.n_calls = 0  # type: int\n",
        "        # num_timesteps = n_envs * n times env.step() was called\n",
        "        # self.num_timesteps = 0  # type: int\n",
        "        # local and global variables\n",
        "        # self.locals = {}  # type: Dict[str, Any]\n",
        "        # self.globals = {}  # type: Dict[str, Any]\n",
        "        # The logger object, used to report things in the terminal\n",
        "        # self.logger # type: stable_baselines3.common.logger.Logger\n",
        "        # Sometimes, for event callback, it is useful\n",
        "        # to have access to the parent object\n",
        "        # self.parent = None  # type: Optional[BaseCallback]\n",
        "\n",
        "    def _on_step(self) -> bool:\n",
        "        if self.n_calls % self.save_freq == 0:\n",
        "\n",
        "          name_prefix = f\"{self.name_prefix}_{self.num_timesteps}\"\n",
        "\n",
        "          # Record video of the best model playing Atari's Environment\n",
        "          rec_val = make_atari_env(\n",
        "              env_str,\n",
        "              n_envs=1,\n",
        "              seed=1)\n",
        "          rec_val = VecFrameStack(rec_val, n_stack=4)\n",
        "          rec_val = VecTransposeImage(rec_val)\n",
        "          rec_val = VecVideoRecorder(rec_val,\n",
        "                                    self.save_path,\n",
        "                                    video_length=self.video_length,\n",
        "                                    record_video_trigger=lambda x: x == 0,\n",
        "                                    name_prefix=name_prefix)\n",
        "\n",
        "          obs = rec_val.reset()\n",
        "          for _ in range(self.video_length):\n",
        "              action, _states = self.model.predict(obs)\n",
        "              obs, rewards, dones, info = rec_val.step(action)\n",
        "              rec_val.render()\n",
        "              if dones:\n",
        "                break\n",
        "\n",
        "          rec_val.close()\n",
        "        return True"
      ],
      "metadata": {
        "id": "HJ6lOtRoJc6f"
      },
      "execution_count": 15,
      "outputs": []
    },
    {
      "cell_type": "code",
      "source": [
        "# Create the Training Atari's Pong environment with appropriate wrappers\n",
        "env = make_atari_env(env_str,\n",
        "                     n_envs=hyperparams[\"n_envs\"],\n",
        "                     seed=0,\n",
        "                     monitor_dir=os.path.join(model_folder_path, \"monitor\"))\n",
        "env = VecFrameStack(env, n_stack=4)\n",
        "env = VecTransposeImage(env)\n",
        "\n",
        "# Create the Evaluation Atari's Pong environment with appropriate wrappers\n",
        "env_val = make_atari_env(env_str,\n",
        "                         n_envs=1,\n",
        "                         seed=1)\n",
        "env_val = VecFrameStack(env_val, n_stack=4)\n",
        "env_val = VecTransposeImage(env_val)"
      ],
      "metadata": {
        "id": "tYT5M7HxJfXg"
      },
      "execution_count": 16,
      "outputs": []
    },
    {
      "cell_type": "code",
      "source": [
        "# Create Callbacks\n",
        "# Create Evaluation Callback\n",
        "eval_callback = EvalCallback(\n",
        "    env_val,\n",
        "    best_model_save_path=model_folder_path,\n",
        "    log_path=model_folder_path,\n",
        "    eval_freq=hyperparams[\"eval_freq\"],\n",
        "    render=False,\n",
        "    deterministic=True,\n",
        "    n_eval_episodes=5)\n",
        "\n",
        "# Create Checkpoint Callback\n",
        "checkpoint_callback = CheckpointCallback(\n",
        "    save_freq=hyperparams[\"eval_freq\"],\n",
        "    save_path=os.path.join(model_folder_path, \"checkpoints\"),\n",
        "    name_prefix=name_prefix,\n",
        "    save_replay_buffer=False,\n",
        "    save_vecnormalize=False,\n",
        ")\n",
        "\n",
        "video_record_callback = VideoRecordCallback(\n",
        "    save_path=os.path.join(model_folder_path, \"videos\"),\n",
        "    video_length=10_000,\n",
        "    save_freq=hyperparams[\"eval_freq\"],\n",
        "    name_prefix=name_prefix)\n",
        "\n",
        "# Create the callback list\n",
        "callbackList = CallbackList([checkpoint_callback,\n",
        "                             video_record_callback,\n",
        "                             eval_callback])"
      ],
      "metadata": {
        "id": "1AAugcZGJhdn"
      },
      "execution_count": 17,
      "outputs": []
    },
    {
      "cell_type": "code",
      "execution_count": 18,
      "metadata": {
        "id": "SvPXWTCHiO69",
        "outputId": "0928785f-6830-49e4-bb98-9b6386186821",
        "colab": {
          "base_uri": "https://localhost:8080/"
        }
      },
      "outputs": [
        {
          "output_type": "stream",
          "name": "stderr",
          "text": [
            "/usr/local/lib/python3.12/dist-packages/moviepy/config_defaults.py:47: SyntaxWarning: invalid escape sequence '\\P'\n",
            "  IMAGEMAGICK_BINARY = r\"C:\\Program Files\\ImageMagick-6.8.8-Q16\\magick.exe\"\n"
          ]
        },
        {
          "output_type": "stream",
          "name": "stdout",
          "text": [
            "Moviepy - Building video /content/gdrive/MyDrive/Finding Theta/logs/PongNoFrameskip-v4/PPO/training jobs/2025-10-17 00:10:03/videos/atari_pong_ppo_400000-step-0-to-step-10000.mp4.\n",
            "Moviepy - Writing video /content/gdrive/MyDrive/Finding Theta/logs/PongNoFrameskip-v4/PPO/training jobs/2025-10-17 00:10:03/videos/atari_pong_ppo_400000-step-0-to-step-10000.mp4\n",
            "\n"
          ]
        },
        {
          "output_type": "stream",
          "name": "stderr",
          "text": [
            "/usr/local/lib/python3.12/dist-packages/jupyter_client/session.py:203: DeprecationWarning: datetime.datetime.utcnow() is deprecated and scheduled for removal in a future version. Use timezone-aware objects to represent datetimes in UTC: datetime.datetime.now(datetime.UTC).\n",
            "  return datetime.utcnow().replace(tzinfo=utc)\n"
          ]
        },
        {
          "output_type": "stream",
          "name": "stdout",
          "text": [
            "Moviepy - Done !\n",
            "Moviepy - video ready /content/gdrive/MyDrive/Finding Theta/logs/PongNoFrameskip-v4/PPO/training jobs/2025-10-17 00:10:03/videos/atari_pong_ppo_400000-step-0-to-step-10000.mp4\n",
            "Eval num_timesteps=400000, episode_reward=-21.00 +/- 0.00\n",
            "Episode length: 3056.00 +/- 0.00\n",
            "New best mean reward!\n",
            "Moviepy - Building video /content/gdrive/MyDrive/Finding Theta/logs/PongNoFrameskip-v4/PPO/training jobs/2025-10-17 00:10:03/videos/atari_pong_ppo_800000-step-0-to-step-10000.mp4.\n",
            "Moviepy - Writing video /content/gdrive/MyDrive/Finding Theta/logs/PongNoFrameskip-v4/PPO/training jobs/2025-10-17 00:10:03/videos/atari_pong_ppo_800000-step-0-to-step-10000.mp4\n",
            "\n"
          ]
        },
        {
          "output_type": "stream",
          "name": "stderr",
          "text": []
        },
        {
          "output_type": "stream",
          "name": "stdout",
          "text": [
            "Moviepy - Done !\n",
            "Moviepy - video ready /content/gdrive/MyDrive/Finding Theta/logs/PongNoFrameskip-v4/PPO/training jobs/2025-10-17 00:10:03/videos/atari_pong_ppo_800000-step-0-to-step-10000.mp4\n",
            "Eval num_timesteps=800000, episode_reward=7.80 +/- 4.40\n",
            "Episode length: 11417.40 +/- 132.80\n",
            "New best mean reward!\n",
            "Moviepy - Building video /content/gdrive/MyDrive/Finding Theta/logs/PongNoFrameskip-v4/PPO/training jobs/2025-10-17 00:10:03/videos/atari_pong_ppo_1200000-step-0-to-step-10000.mp4.\n",
            "Moviepy - Writing video /content/gdrive/MyDrive/Finding Theta/logs/PongNoFrameskip-v4/PPO/training jobs/2025-10-17 00:10:03/videos/atari_pong_ppo_1200000-step-0-to-step-10000.mp4\n",
            "\n"
          ]
        },
        {
          "output_type": "stream",
          "name": "stderr",
          "text": []
        },
        {
          "output_type": "stream",
          "name": "stdout",
          "text": [
            "Moviepy - Done !\n",
            "Moviepy - video ready /content/gdrive/MyDrive/Finding Theta/logs/PongNoFrameskip-v4/PPO/training jobs/2025-10-17 00:10:03/videos/atari_pong_ppo_1200000-step-0-to-step-10000.mp4\n",
            "Eval num_timesteps=1200000, episode_reward=11.60 +/- 3.88\n",
            "Episode length: 8388.60 +/- 651.41\n",
            "New best mean reward!\n",
            "Moviepy - Building video /content/gdrive/MyDrive/Finding Theta/logs/PongNoFrameskip-v4/PPO/training jobs/2025-10-17 00:10:03/videos/atari_pong_ppo_1600000-step-0-to-step-10000.mp4.\n",
            "Moviepy - Writing video /content/gdrive/MyDrive/Finding Theta/logs/PongNoFrameskip-v4/PPO/training jobs/2025-10-17 00:10:03/videos/atari_pong_ppo_1600000-step-0-to-step-10000.mp4\n",
            "\n"
          ]
        },
        {
          "output_type": "stream",
          "name": "stderr",
          "text": []
        },
        {
          "output_type": "stream",
          "name": "stdout",
          "text": [
            "Moviepy - Done !\n",
            "Moviepy - video ready /content/gdrive/MyDrive/Finding Theta/logs/PongNoFrameskip-v4/PPO/training jobs/2025-10-17 00:10:03/videos/atari_pong_ppo_1600000-step-0-to-step-10000.mp4\n",
            "Eval num_timesteps=1600000, episode_reward=16.40 +/- 3.67\n",
            "Episode length: 7949.80 +/- 962.90\n",
            "New best mean reward!\n",
            "Moviepy - Building video /content/gdrive/MyDrive/Finding Theta/logs/PongNoFrameskip-v4/PPO/training jobs/2025-10-17 00:10:03/videos/atari_pong_ppo_2000000-step-0-to-step-10000.mp4.\n",
            "Moviepy - Writing video /content/gdrive/MyDrive/Finding Theta/logs/PongNoFrameskip-v4/PPO/training jobs/2025-10-17 00:10:03/videos/atari_pong_ppo_2000000-step-0-to-step-10000.mp4\n",
            "\n"
          ]
        },
        {
          "output_type": "stream",
          "name": "stderr",
          "text": []
        },
        {
          "output_type": "stream",
          "name": "stdout",
          "text": [
            "Moviepy - Done !\n",
            "Moviepy - video ready /content/gdrive/MyDrive/Finding Theta/logs/PongNoFrameskip-v4/PPO/training jobs/2025-10-17 00:10:03/videos/atari_pong_ppo_2000000-step-0-to-step-10000.mp4\n",
            "Eval num_timesteps=2000000, episode_reward=17.80 +/- 3.66\n",
            "Episode length: 9351.80 +/- 2906.68\n",
            "New best mean reward!\n",
            "Moviepy - Building video /content/gdrive/MyDrive/Finding Theta/logs/PongNoFrameskip-v4/PPO/training jobs/2025-10-17 00:10:03/videos/atari_pong_ppo_2400000-step-0-to-step-10000.mp4.\n",
            "Moviepy - Writing video /content/gdrive/MyDrive/Finding Theta/logs/PongNoFrameskip-v4/PPO/training jobs/2025-10-17 00:10:03/videos/atari_pong_ppo_2400000-step-0-to-step-10000.mp4\n",
            "\n"
          ]
        },
        {
          "output_type": "stream",
          "name": "stderr",
          "text": []
        },
        {
          "output_type": "stream",
          "name": "stdout",
          "text": [
            "Moviepy - Done !\n",
            "Moviepy - video ready /content/gdrive/MyDrive/Finding Theta/logs/PongNoFrameskip-v4/PPO/training jobs/2025-10-17 00:10:03/videos/atari_pong_ppo_2400000-step-0-to-step-10000.mp4\n",
            "Eval num_timesteps=2400000, episode_reward=14.20 +/- 5.08\n",
            "Episode length: 11175.80 +/- 3364.54\n",
            "Moviepy - Building video /content/gdrive/MyDrive/Finding Theta/logs/PongNoFrameskip-v4/PPO/training jobs/2025-10-17 00:10:03/videos/atari_pong_ppo_2800000-step-0-to-step-10000.mp4.\n",
            "Moviepy - Writing video /content/gdrive/MyDrive/Finding Theta/logs/PongNoFrameskip-v4/PPO/training jobs/2025-10-17 00:10:03/videos/atari_pong_ppo_2800000-step-0-to-step-10000.mp4\n",
            "\n"
          ]
        },
        {
          "output_type": "stream",
          "name": "stderr",
          "text": []
        },
        {
          "output_type": "stream",
          "name": "stdout",
          "text": [
            "Moviepy - Done !\n",
            "Moviepy - video ready /content/gdrive/MyDrive/Finding Theta/logs/PongNoFrameskip-v4/PPO/training jobs/2025-10-17 00:10:03/videos/atari_pong_ppo_2800000-step-0-to-step-10000.mp4\n",
            "Eval num_timesteps=2800000, episode_reward=20.60 +/- 0.49\n",
            "Episode length: 7937.60 +/- 1864.16\n",
            "New best mean reward!\n",
            "Moviepy - Building video /content/gdrive/MyDrive/Finding Theta/logs/PongNoFrameskip-v4/PPO/training jobs/2025-10-17 00:10:03/videos/atari_pong_ppo_3200000-step-0-to-step-10000.mp4.\n",
            "Moviepy - Writing video /content/gdrive/MyDrive/Finding Theta/logs/PongNoFrameskip-v4/PPO/training jobs/2025-10-17 00:10:03/videos/atari_pong_ppo_3200000-step-0-to-step-10000.mp4\n",
            "\n"
          ]
        },
        {
          "output_type": "stream",
          "name": "stderr",
          "text": []
        },
        {
          "output_type": "stream",
          "name": "stdout",
          "text": [
            "Moviepy - Done !\n",
            "Moviepy - video ready /content/gdrive/MyDrive/Finding Theta/logs/PongNoFrameskip-v4/PPO/training jobs/2025-10-17 00:10:03/videos/atari_pong_ppo_3200000-step-0-to-step-10000.mp4\n",
            "Eval num_timesteps=3200000, episode_reward=20.40 +/- 0.49\n",
            "Episode length: 10224.00 +/- 3784.10\n",
            "Moviepy - Building video /content/gdrive/MyDrive/Finding Theta/logs/PongNoFrameskip-v4/PPO/training jobs/2025-10-17 00:10:03/videos/atari_pong_ppo_3600000-step-0-to-step-10000.mp4.\n",
            "Moviepy - Writing video /content/gdrive/MyDrive/Finding Theta/logs/PongNoFrameskip-v4/PPO/training jobs/2025-10-17 00:10:03/videos/atari_pong_ppo_3600000-step-0-to-step-10000.mp4\n",
            "\n"
          ]
        },
        {
          "output_type": "stream",
          "name": "stderr",
          "text": []
        },
        {
          "output_type": "stream",
          "name": "stdout",
          "text": [
            "Moviepy - Done !\n",
            "Moviepy - video ready /content/gdrive/MyDrive/Finding Theta/logs/PongNoFrameskip-v4/PPO/training jobs/2025-10-17 00:10:03/videos/atari_pong_ppo_3600000-step-0-to-step-10000.mp4\n",
            "Eval num_timesteps=3600000, episode_reward=20.60 +/- 0.49\n",
            "Episode length: 9766.80 +/- 2209.03\n",
            "Moviepy - Building video /content/gdrive/MyDrive/Finding Theta/logs/PongNoFrameskip-v4/PPO/training jobs/2025-10-17 00:10:03/videos/atari_pong_ppo_4000000-step-0-to-step-10000.mp4.\n",
            "Moviepy - Writing video /content/gdrive/MyDrive/Finding Theta/logs/PongNoFrameskip-v4/PPO/training jobs/2025-10-17 00:10:03/videos/atari_pong_ppo_4000000-step-0-to-step-10000.mp4\n",
            "\n"
          ]
        },
        {
          "output_type": "stream",
          "name": "stderr",
          "text": []
        },
        {
          "output_type": "stream",
          "name": "stdout",
          "text": [
            "Moviepy - Done !\n",
            "Moviepy - video ready /content/gdrive/MyDrive/Finding Theta/logs/PongNoFrameskip-v4/PPO/training jobs/2025-10-17 00:10:03/videos/atari_pong_ppo_4000000-step-0-to-step-10000.mp4\n",
            "Eval num_timesteps=4000000, episode_reward=20.20 +/- 1.17\n",
            "Episode length: 11983.20 +/- 3843.97\n"
          ]
        }
      ],
      "source": [
        "# Initialize PPO\n",
        "model = PPO('CnnPolicy',\n",
        "            env,\n",
        "            verbose=0,\n",
        "            batch_size=hyperparams[\"batch_size\"],\n",
        "            learning_rate=hyperparams[\"learning_rate\"],\n",
        "            clip_range=hyperparams[\"clip_range\"],\n",
        "            n_steps=hyperparams[\"n_steps\"],\n",
        "            n_epochs=hyperparams[\"n_epochs\"],\n",
        "            tensorboard_log=os.path.join(log_dir, \"tensorboard\"))\n",
        "\n",
        "# Train the model\n",
        "model.learn(total_timesteps=hyperparams[\"total_timesteps\"],\n",
        "            progress_bar=False,\n",
        "            callback=callbackList)\n",
        "\n",
        "# Save the trained model\n",
        "model.save(os.path.join(model_folder_path, \"final_model\"))\n",
        "\n",
        "env.close()\n",
        "env_val.close()"
      ]
    },
    {
      "cell_type": "code",
      "source": [
        "# # Get model path from last training job (uncomment if training job interrupted)\n",
        "# # List all entries in the directory\n",
        "# entries = os.listdir(training_data_path)\n",
        "\n",
        "# # Filter out only directories\n",
        "# folders = [entry for entry in entries if os.path.isdir(os.path.join(training_data_path, entry))]\n",
        "\n",
        "# # Sort the folders alphabetically\n",
        "# folders.sort()\n",
        "\n",
        "# # Get the last folder\n",
        "# model_folder_path = os.path.join(training_data_path, folders[-1])\n",
        "# print(model_folder_path)"
      ],
      "metadata": {
        "id": "blB9bYzUJrlD"
      },
      "execution_count": 19,
      "outputs": []
    },
    {
      "cell_type": "code",
      "source": [
        "# Create the Evaluation Atari's Pong environment with appropriate wrappers\n",
        "env_val = make_atari_env(env_str,\n",
        "                         n_envs=1,\n",
        "                         seed=1)\n",
        "env_val = VecFrameStack(env_val, n_stack=4)\n",
        "env_val = VecTransposeImage(env_val)\n",
        "\n",
        "# Load the best model\n",
        "best_model_path = os.path.join(model_folder_path, \"best_model\")\n",
        "best_model = PPO.load(best_model_path, env=env_val)\n",
        "\n",
        "mean_reward, std_reward = evaluate_policy(\n",
        "    best_model,\n",
        "    env_val,\n",
        "    n_eval_episodes=5)\n",
        "print(f\"Best Model - Mean reward: {mean_reward:.2f} +/- {std_reward:.2f}\")\n",
        "\n",
        "best_metrics_path = os.path.join(log_dir, \"best_model_metrics.csv\")\n",
        "\n",
        "# Create Best Model Metrics file if not there\n",
        "if(not os.path.isfile(best_metrics_path)):\n",
        "  with open(best_metrics_path, 'w', newline='') as csvfile:\n",
        "    writer = csv.writer(csvfile)\n",
        "    writer.writerow([\"run_date\",\n",
        "                     \"batch_size\",\n",
        "                     \"ent_coef\",\n",
        "                     \"learning_rate\",\n",
        "                     \"num_timesteps\",\n",
        "                     \"mean_reward\",\n",
        "                     \"std_reward\",\n",
        "                     \"n_steps\",\n",
        "                     \"n_envs\",\n",
        "                     \"gamma\",\n",
        "                     \"gae_lambda\",\n",
        "                     \"clip_range_vf\",\n",
        "                     \"n_epochs\"])\n",
        "\n",
        "new_data = [os.path.basename(os.path.normpath(model_folder_path)),\n",
        "            best_model.batch_size,\n",
        "            best_model.ent_coef,\n",
        "            best_model.learning_rate,\n",
        "            best_model.num_timesteps,\n",
        "            mean_reward,\n",
        "            std_reward,\n",
        "            best_model.n_steps,\n",
        "            best_model.n_envs,\n",
        "            best_model.gamma,\n",
        "            best_model.gae_lambda,\n",
        "            best_model.clip_range_vf,\n",
        "            best_model.n_epochs]\n",
        "\n",
        "with open(best_metrics_path, 'a', newline='') as csvfile:\n",
        "    writer = csv.writer(csvfile)\n",
        "    writer.writerow(new_data)\n",
        "\n",
        "# Record video of the best model playing Atari's Pong\n",
        "best_model_file_name = \"best_model_{}\".format(name_prefix)\n",
        "rec_val = VecVideoRecorder(env_val,\n",
        "                           os.path.join(model_folder_path, \"videos\"),\n",
        "                           video_length=10_000,\n",
        "                           record_video_trigger=lambda x: x == 0,\n",
        "                           name_prefix=best_model_file_name)\n",
        "\n",
        "obs = rec_val.reset()\n",
        "for _ in range(10_000):\n",
        "    action, _states = best_model.predict(obs)\n",
        "    obs, rewards, dones, info = rec_val.step(action)\n",
        "    rec_val.render()\n",
        "    if dones:\n",
        "      break\n",
        "\n",
        "env_val.close()\n",
        "rec_val.close()"
      ],
      "metadata": {
        "id": "OqwJT0bhcOu0",
        "colab": {
          "base_uri": "https://localhost:8080/"
        },
        "outputId": "3261dc7c-6676-46e1-e6df-1096aa67bd10"
      },
      "execution_count": 20,
      "outputs": [
        {
          "output_type": "stream",
          "name": "stdout",
          "text": [
            "Best Model - Mean reward: 21.00 +/- 0.00\n",
            "Moviepy - Building video /content/gdrive/MyDrive/Finding Theta/logs/PongNoFrameskip-v4/PPO/training jobs/2025-10-17 00:10:03/videos/best_model_atari_pong_ppo-step-0-to-step-10000.mp4.\n",
            "Moviepy - Writing video /content/gdrive/MyDrive/Finding Theta/logs/PongNoFrameskip-v4/PPO/training jobs/2025-10-17 00:10:03/videos/best_model_atari_pong_ppo-step-0-to-step-10000.mp4\n",
            "\n"
          ]
        },
        {
          "output_type": "stream",
          "name": "stderr",
          "text": [
            "                                                                  "
          ]
        },
        {
          "output_type": "stream",
          "name": "stdout",
          "text": [
            "Moviepy - Done !\n",
            "Moviepy - video ready /content/gdrive/MyDrive/Finding Theta/logs/PongNoFrameskip-v4/PPO/training jobs/2025-10-17 00:10:03/videos/best_model_atari_pong_ppo-step-0-to-step-10000.mp4\n"
          ]
        },
        {
          "output_type": "stream",
          "name": "stderr",
          "text": [
            "\r"
          ]
        }
      ]
    },
    {
      "cell_type": "code",
      "source": [
        "# Print Model\n",
        "print(best_model.policy)"
      ],
      "metadata": {
        "id": "2zN6WKnxGRSa",
        "colab": {
          "base_uri": "https://localhost:8080/"
        },
        "outputId": "c80d49d8-3961-4721-eca1-d6a4db34fa80"
      },
      "execution_count": 21,
      "outputs": [
        {
          "output_type": "stream",
          "name": "stdout",
          "text": [
            "ActorCriticCnnPolicy(\n",
            "  (features_extractor): NatureCNN(\n",
            "    (cnn): Sequential(\n",
            "      (0): Conv2d(4, 32, kernel_size=(8, 8), stride=(4, 4))\n",
            "      (1): ReLU()\n",
            "      (2): Conv2d(32, 64, kernel_size=(4, 4), stride=(2, 2))\n",
            "      (3): ReLU()\n",
            "      (4): Conv2d(64, 64, kernel_size=(3, 3), stride=(1, 1))\n",
            "      (5): ReLU()\n",
            "      (6): Flatten(start_dim=1, end_dim=-1)\n",
            "    )\n",
            "    (linear): Sequential(\n",
            "      (0): Linear(in_features=3136, out_features=512, bias=True)\n",
            "      (1): ReLU()\n",
            "    )\n",
            "  )\n",
            "  (pi_features_extractor): NatureCNN(\n",
            "    (cnn): Sequential(\n",
            "      (0): Conv2d(4, 32, kernel_size=(8, 8), stride=(4, 4))\n",
            "      (1): ReLU()\n",
            "      (2): Conv2d(32, 64, kernel_size=(4, 4), stride=(2, 2))\n",
            "      (3): ReLU()\n",
            "      (4): Conv2d(64, 64, kernel_size=(3, 3), stride=(1, 1))\n",
            "      (5): ReLU()\n",
            "      (6): Flatten(start_dim=1, end_dim=-1)\n",
            "    )\n",
            "    (linear): Sequential(\n",
            "      (0): Linear(in_features=3136, out_features=512, bias=True)\n",
            "      (1): ReLU()\n",
            "    )\n",
            "  )\n",
            "  (vf_features_extractor): NatureCNN(\n",
            "    (cnn): Sequential(\n",
            "      (0): Conv2d(4, 32, kernel_size=(8, 8), stride=(4, 4))\n",
            "      (1): ReLU()\n",
            "      (2): Conv2d(32, 64, kernel_size=(4, 4), stride=(2, 2))\n",
            "      (3): ReLU()\n",
            "      (4): Conv2d(64, 64, kernel_size=(3, 3), stride=(1, 1))\n",
            "      (5): ReLU()\n",
            "      (6): Flatten(start_dim=1, end_dim=-1)\n",
            "    )\n",
            "    (linear): Sequential(\n",
            "      (0): Linear(in_features=3136, out_features=512, bias=True)\n",
            "      (1): ReLU()\n",
            "    )\n",
            "  )\n",
            "  (mlp_extractor): MlpExtractor(\n",
            "    (policy_net): Sequential()\n",
            "    (value_net): Sequential()\n",
            "  )\n",
            "  (action_net): Linear(in_features=512, out_features=6, bias=True)\n",
            "  (value_net): Linear(in_features=512, out_features=1, bias=True)\n",
            ")\n"
          ]
        }
      ]
    },
    {
      "cell_type": "code",
      "source": [
        "# Load the evaluations.npz file\n",
        "data = numpy.load(os.path.join(model_folder_path, \"evaluations.npz\"))\n",
        "\n",
        "# Extract the relevant data\n",
        "timesteps = data['timesteps']\n",
        "results = data['results']\n",
        "\n",
        "# Calculate the mean and standard deviation of the results\n",
        "mean_results = numpy.mean(results, axis=1)\n",
        "std_results = numpy.std(results, axis=1)\n",
        "\n",
        "# Plot the results\n",
        "matplotlib.pyplot.figure()\n",
        "matplotlib.pyplot.plot(timesteps, mean_results)\n",
        "matplotlib.pyplot.fill_between(timesteps,\n",
        "                               mean_results - std_results,\n",
        "                               mean_results + std_results,\n",
        "                               alpha=0.3)\n",
        "\n",
        "matplotlib.pyplot.xlabel('Timesteps')\n",
        "matplotlib.pyplot.ylabel('Mean Reward')\n",
        "matplotlib.pyplot.title(f\"{rl_type} Performance on {env_str}\")\n",
        "matplotlib.pyplot.savefig(os.path.join(model_folder_path, f\"{rl_type}_{env_str}_performance.png\"))\n",
        "matplotlib.pyplot.show()"
      ],
      "metadata": {
        "id": "Xisgp9SfcONO",
        "colab": {
          "base_uri": "https://localhost:8080/",
          "height": 472
        },
        "outputId": "9fed9a68-61a1-4556-b369-4c4cd2666337"
      },
      "execution_count": 22,
      "outputs": [
        {
          "output_type": "display_data",
          "data": {
            "text/plain": [
              "<Figure size 640x480 with 1 Axes>"
            ],
            "image/png": "[encoded data removed]"
          },
          "metadata": {}
        }
      ]
    }
  ]
}