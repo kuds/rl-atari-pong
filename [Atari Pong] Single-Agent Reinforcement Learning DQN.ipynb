{
  "cells": [
    {
      "cell_type": "markdown",
      "metadata": {
        "id": "view-in-github",
        "colab_type": "text"
      },
      "source": [
        "<a href=\"https://colab.research.google.com/github/kuds/rl-atari-pong/blob/main/%5BAtari%20Pong%5D%20Single-Agent%20Reinforcement%20Learning%20DQN.ipynb\" target=\"_parent\"><img src=\"https://colab.research.google.com/assets/colab-badge.svg\" alt=\"Open In Colab\"/></a>"
      ]
    },
    {
      "cell_type": "markdown",
      "metadata": {
        "id": "ob-2hGT3jNdX"
      },
      "source": [
        "# [Atari Pong] Single-Agent Reinforcement Learning DQN"
      ]
    },
    {
      "cell_type": "code",
      "execution_count": 1,
      "metadata": {
        "colab": {
          "base_uri": "https://localhost:8080/"
        },
        "id": "Fy1WJ1R-iP4V",
        "outputId": "ffa4e5a9-62bf-47c8-bcc3-d1c6a9696d5e"
      },
      "outputs": [
        {
          "output_type": "stream",
          "name": "stdout",
          "text": [
            "Requirement already satisfied: swig in /usr/local/lib/python3.12/dist-packages (4.3.1.post0)\n"
          ]
        }
      ],
      "source": [
        "!pip install swig"
      ]
    },
    {
      "cell_type": "code",
      "execution_count": 2,
      "metadata": {
        "colab": {
          "base_uri": "https://localhost:8080/"
        },
        "id": "7U_qTvGlj2oy",
        "outputId": "e6a52ec3-66df-4eff-d161-0e8c44124944"
      },
      "outputs": [
        {
          "output_type": "stream",
          "name": "stdout",
          "text": [
            "Requirement already satisfied: stable-baselines3 in /usr/local/lib/python3.12/dist-packages (2.7.0)\n",
            "Requirement already satisfied: gymnasium<1.3.0,>=0.29.1 in /usr/local/lib/python3.12/dist-packages (from stable-baselines3) (1.2.1)\n",
            "Requirement already satisfied: numpy<3.0,>=1.20 in /usr/local/lib/python3.12/dist-packages (from stable-baselines3) (2.0.2)\n",
            "Requirement already satisfied: torch<3.0,>=2.3 in /usr/local/lib/python3.12/dist-packages (from stable-baselines3) (2.8.0+cu126)\n",
            "Requirement already satisfied: cloudpickle in /usr/local/lib/python3.12/dist-packages (from stable-baselines3) (3.1.1)\n",
            "Requirement already satisfied: pandas in /usr/local/lib/python3.12/dist-packages (from stable-baselines3) (2.2.2)\n",
            "Requirement already satisfied: matplotlib in /usr/local/lib/python3.12/dist-packages (from stable-baselines3) (3.10.0)\n",
            "Requirement already satisfied: typing-extensions>=4.3.0 in /usr/local/lib/python3.12/dist-packages (from gymnasium<1.3.0,>=0.29.1->stable-baselines3) (4.15.0)\n",
            "Requirement already satisfied: farama-notifications>=0.0.1 in /usr/local/lib/python3.12/dist-packages (from gymnasium<1.3.0,>=0.29.1->stable-baselines3) (0.0.4)\n",
            "Requirement already satisfied: filelock in /usr/local/lib/python3.12/dist-packages (from torch<3.0,>=2.3->stable-baselines3) (3.20.0)\n",
            "Requirement already satisfied: setuptools in /usr/local/lib/python3.12/dist-packages (from torch<3.0,>=2.3->stable-baselines3) (75.2.0)\n",
            "Requirement already satisfied: sympy>=1.13.3 in /usr/local/lib/python3.12/dist-packages (from torch<3.0,>=2.3->stable-baselines3) (1.13.3)\n",
            "Requirement already satisfied: networkx in /usr/local/lib/python3.12/dist-packages (from torch<3.0,>=2.3->stable-baselines3) (3.5)\n",
            "Requirement already satisfied: jinja2 in /usr/local/lib/python3.12/dist-packages (from torch<3.0,>=2.3->stable-baselines3) (3.1.6)\n",
            "Requirement already satisfied: fsspec in /usr/local/lib/python3.12/dist-packages (from torch<3.0,>=2.3->stable-baselines3) (2025.3.0)\n",
            "Requirement already satisfied: nvidia-cuda-nvrtc-cu12==12.6.77 in /usr/local/lib/python3.12/dist-packages (from torch<3.0,>=2.3->stable-baselines3) (12.6.77)\n",
            "Requirement already satisfied: nvidia-cuda-runtime-cu12==12.6.77 in /usr/local/lib/python3.12/dist-packages (from torch<3.0,>=2.3->stable-baselines3) (12.6.77)\n",
            "Requirement already satisfied: nvidia-cuda-cupti-cu12==12.6.80 in /usr/local/lib/python3.12/dist-packages (from torch<3.0,>=2.3->stable-baselines3) (12.6.80)\n",
            "Requirement already satisfied: nvidia-cudnn-cu12==9.10.2.21 in /usr/local/lib/python3.12/dist-packages (from torch<3.0,>=2.3->stable-baselines3) (9.10.2.21)\n",
            "Requirement already satisfied: nvidia-cublas-cu12==12.6.4.1 in /usr/local/lib/python3.12/dist-packages (from torch<3.0,>=2.3->stable-baselines3) (12.6.4.1)\n",
            "Requirement already satisfied: nvidia-cufft-cu12==11.3.0.4 in /usr/local/lib/python3.12/dist-packages (from torch<3.0,>=2.3->stable-baselines3) (11.3.0.4)\n",
            "Requirement already satisfied: nvidia-curand-cu12==10.3.7.77 in /usr/local/lib/python3.12/dist-packages (from torch<3.0,>=2.3->stable-baselines3) (10.3.7.77)\n",
            "Requirement already satisfied: nvidia-cusolver-cu12==11.7.1.2 in /usr/local/lib/python3.12/dist-packages (from torch<3.0,>=2.3->stable-baselines3) (11.7.1.2)\n",
            "Requirement already satisfied: nvidia-cusparse-cu12==12.5.4.2 in /usr/local/lib/python3.12/dist-packages (from torch<3.0,>=2.3->stable-baselines3) (12.5.4.2)\n",
            "Requirement already satisfied: nvidia-cusparselt-cu12==0.7.1 in /usr/local/lib/python3.12/dist-packages (from torch<3.0,>=2.3->stable-baselines3) (0.7.1)\n",
            "Requirement already satisfied: nvidia-nccl-cu12==2.27.3 in /usr/local/lib/python3.12/dist-packages (from torch<3.0,>=2.3->stable-baselines3) (2.27.3)\n",
            "Requirement already satisfied: nvidia-nvtx-cu12==12.6.77 in /usr/local/lib/python3.12/dist-packages (from torch<3.0,>=2.3->stable-baselines3) (12.6.77)\n",
            "Requirement already satisfied: nvidia-nvjitlink-cu12==12.6.85 in /usr/local/lib/python3.12/dist-packages (from torch<3.0,>=2.3->stable-baselines3) (12.6.85)\n",
            "Requirement already satisfied: nvidia-cufile-cu12==1.11.1.6 in /usr/local/lib/python3.12/dist-packages (from torch<3.0,>=2.3->stable-baselines3) (1.11.1.6)\n",
            "Requirement already satisfied: triton==3.4.0 in /usr/local/lib/python3.12/dist-packages (from torch<3.0,>=2.3->stable-baselines3) (3.4.0)\n",
            "Requirement already satisfied: contourpy>=1.0.1 in /usr/local/lib/python3.12/dist-packages (from matplotlib->stable-baselines3) (1.3.3)\n",
            "Requirement already satisfied: cycler>=0.10 in /usr/local/lib/python3.12/dist-packages (from matplotlib->stable-baselines3) (0.12.1)\n",
            "Requirement already satisfied: fonttools>=4.22.0 in /usr/local/lib/python3.12/dist-packages (from matplotlib->stable-baselines3) (4.60.1)\n",
            "Requirement already satisfied: kiwisolver>=1.3.1 in /usr/local/lib/python3.12/dist-packages (from matplotlib->stable-baselines3) (1.4.9)\n",
            "Requirement already satisfied: packaging>=20.0 in /usr/local/lib/python3.12/dist-packages (from matplotlib->stable-baselines3) (25.0)\n",
            "Requirement already satisfied: pillow>=8 in /usr/local/lib/python3.12/dist-packages (from matplotlib->stable-baselines3) (11.3.0)\n",
            "Requirement already satisfied: pyparsing>=2.3.1 in /usr/local/lib/python3.12/dist-packages (from matplotlib->stable-baselines3) (3.2.5)\n",
            "Requirement already satisfied: python-dateutil>=2.7 in /usr/local/lib/python3.12/dist-packages (from matplotlib->stable-baselines3) (2.9.0.post0)\n",
            "Requirement already satisfied: pytz>=2020.1 in /usr/local/lib/python3.12/dist-packages (from pandas->stable-baselines3) (2025.2)\n",
            "Requirement already satisfied: tzdata>=2022.7 in /usr/local/lib/python3.12/dist-packages (from pandas->stable-baselines3) (2025.2)\n",
            "Requirement already satisfied: six>=1.5 in /usr/local/lib/python3.12/dist-packages (from python-dateutil>=2.7->matplotlib->stable-baselines3) (1.17.0)\n",
            "Requirement already satisfied: mpmath<1.4,>=1.1.0 in /usr/local/lib/python3.12/dist-packages (from sympy>=1.13.3->torch<3.0,>=2.3->stable-baselines3) (1.3.0)\n",
            "Requirement already satisfied: MarkupSafe>=2.0 in /usr/local/lib/python3.12/dist-packages (from jinja2->torch<3.0,>=2.3->stable-baselines3) (3.0.3)\n"
          ]
        }
      ],
      "source": [
        "!pip install stable-baselines3"
      ]
    },
    {
      "cell_type": "code",
      "execution_count": 3,
      "metadata": {
        "colab": {
          "base_uri": "https://localhost:8080/"
        },
        "id": "Le7dztPUkVz4",
        "outputId": "b7cea29e-1cb1-41b7-a9d0-70081d9a23ca"
      },
      "outputs": [
        {
          "output_type": "stream",
          "name": "stdout",
          "text": [
            "Requirement already satisfied: ale-py in /usr/local/lib/python3.12/dist-packages (0.11.2)\n",
            "Requirement already satisfied: gymnasium[atari] in /usr/local/lib/python3.12/dist-packages (1.2.1)\n",
            "Requirement already satisfied: numpy>=1.21.0 in /usr/local/lib/python3.12/dist-packages (from gymnasium[atari]) (2.0.2)\n",
            "Requirement already satisfied: cloudpickle>=1.2.0 in /usr/local/lib/python3.12/dist-packages (from gymnasium[atari]) (3.1.1)\n",
            "Requirement already satisfied: typing-extensions>=4.3.0 in /usr/local/lib/python3.12/dist-packages (from gymnasium[atari]) (4.15.0)\n",
            "Requirement already satisfied: farama-notifications>=0.0.1 in /usr/local/lib/python3.12/dist-packages (from gymnasium[atari]) (0.0.4)\n"
          ]
        }
      ],
      "source": [
        "!pip install gymnasium[atari] ale-py"
      ]
    },
    {
      "cell_type": "code",
      "execution_count": 4,
      "metadata": {
        "colab": {
          "base_uri": "https://localhost:8080/"
        },
        "id": "o89JlEiexh1-",
        "outputId": "c6a76008-524b-4ced-b6dd-d93781f2e120"
      },
      "outputs": [
        {
          "output_type": "stream",
          "name": "stderr",
          "text": [
            "Gym has been unmaintained since 2022 and does not support NumPy 2.0 amongst other critical functionality.\n",
            "Please upgrade to Gymnasium, the maintained drop-in replacement of Gym, or contact the authors of your software and request that they upgrade.\n",
            "See the migration guide at https://gymnasium.farama.org/introduction/migration_guide/ for additional information.\n",
            "/usr/local/lib/python3.12/dist-packages/jupyter_client/session.py:203: DeprecationWarning: datetime.datetime.utcnow() is deprecated and scheduled for removal in a future version. Use timezone-aware objects to represent datetimes in UTC: datetime.datetime.now(datetime.UTC).\n",
            "  return datetime.utcnow().replace(tzinfo=utc)\n"
          ]
        }
      ],
      "source": [
        "import os\n",
        "import csv\n",
        "import time\n",
        "import json\n",
        "import platform\n",
        "import torch\n",
        "import numpy\n",
        "import stable_baselines3\n",
        "from stable_baselines3 import DQN\n",
        "from stable_baselines3.common.env_util import make_atari_env\n",
        "from stable_baselines3.common.vec_env import VecFrameStack\n",
        "from stable_baselines3.common.evaluation import evaluate_policy\n",
        "from stable_baselines3.common.callbacks import EvalCallback\n",
        "from stable_baselines3.common.env_util import make_vec_env\n",
        "from stable_baselines3.common.callbacks import CallbackList\n",
        "from stable_baselines3.common.callbacks import BaseCallback\n",
        "from stable_baselines3.common.callbacks import CheckpointCallback\n",
        "from stable_baselines3.common.vec_env import VecVideoRecorder\n",
        "from stable_baselines3.common.vec_env import VecTransposeImage\n",
        "import matplotlib.pyplot\n",
        "import matplotlib\n",
        "import ale_py\n",
        "import gymnasium\n",
        "from importlib.metadata import version\n",
        "from datetime import datetime\n",
        "import google.colab.drive"
      ]
    },
    {
      "cell_type": "code",
      "execution_count": 5,
      "metadata": {
        "colab": {
          "base_uri": "https://localhost:8080/"
        },
        "id": "KRrJSPuDiDN4",
        "outputId": "74ee4706-b16a-4d18-fd4e-02e06257b10a"
      },
      "outputs": [
        {
          "output_type": "stream",
          "name": "stdout",
          "text": [
            "Python Version: 3.12.12\n",
            "Torch Version: 2.8.0+cu126\n",
            "Is Cuda Available: True\n",
            "Cuda Version: 12.6\n",
            "GPU Device: NVIDIA L4\n",
            "Gymnasium Version: 1.2.1\n",
            "Numpy Version: 2.0.2\n",
            "Scipy Version: 1.16.2\n",
            "Swig Version: 4.3.1.post0\n",
            "Stable Baselines3 Version: 2.7.0\n",
            "ALE Version: 0.11.2\n"
          ]
        }
      ],
      "source": [
        "print(f\"Python Version: {platform.python_version()}\")\n",
        "print(f\"Torch Version: {version('torch')}\")\n",
        "print(f\"Is Cuda Available: {torch.cuda.is_available()}\")\n",
        "print(f\"Cuda Version: {torch.version.cuda}\")\n",
        "if torch.cuda.is_available(): print(f\"GPU Device: {torch.cuda.get_device_name(0)}\")\n",
        "print(f\"Gymnasium Version: {version('gymnasium')}\")\n",
        "print(f\"Numpy Version: {version('numpy')}\")\n",
        "print(f\"Scipy Version: {version('scipy')}\")\n",
        "print(f\"Swig Version: {version('swig')}\")\n",
        "print(f\"Stable Baselines3 Version: {version('stable_baselines3')}\")\n",
        "print(f\"ALE Version: {version('ale_py')}\")"
      ]
    },
    {
      "cell_type": "code",
      "execution_count": 6,
      "metadata": {
        "colab": {
          "base_uri": "https://localhost:8080/"
        },
        "id": "aR7w3BqcFiIO",
        "outputId": "f2b8cb55-4173-445c-db4b-873b925427b7"
      },
      "outputs": [
        {
          "output_type": "stream",
          "name": "stdout",
          "text": [
            "Mounted at /content/gdrive\n"
          ]
        }
      ],
      "source": [
        "rl_type = \"DQN\"\n",
        "env_str =  \"PongNoFrameskip-v4\" #\"ALE/Pong-v5\"\n",
        "name_prefix = \"atari_pong_dqn\"\n",
        "log_dir = \"\"\n",
        "parent_path = \"\"\n",
        "use_google_drive = True\n",
        "if use_google_drive:\n",
        "    parent_path = \"/content/gdrive\"\n",
        "    google.colab.drive.mount(parent_path, force_remount=True)\n",
        "    log_dir = \"{}/MyDrive/Finding Theta/logs/{}/{}\".format(parent_path,\n",
        "                                                       env_str,\n",
        "                                                       rl_type)\n",
        "else:\n",
        "    log_dir = \"/content/logs/{}/{}\".format(env_str, rl_type)"
      ]
    },
    {
      "cell_type": "code",
      "execution_count": 7,
      "metadata": {
        "id": "Ce0YkjPdVW6Q"
      },
      "outputs": [],
      "source": [
        "training_data_path = os.path.join(log_dir, \"training jobs\")\n",
        "time_folder = datetime.now().strftime('%Y-%m-%d %H:%M:%S')\n",
        "model_folder_path = os.path.join(log_dir, \"training jobs\", time_folder)"
      ]
    },
    {
      "cell_type": "code",
      "execution_count": 8,
      "metadata": {
        "id": "TKSfoDHMdbsf"
      },
      "outputs": [],
      "source": [
        "#Create Folders\n",
        "os.makedirs(log_dir, exist_ok=True)\n",
        "os.makedirs(training_data_path, exist_ok=True)\n",
        "os.makedirs(model_folder_path, exist_ok=True)"
      ]
    },
    {
      "cell_type": "code",
      "execution_count": 9,
      "metadata": {
        "colab": {
          "base_uri": "https://localhost:8080/"
        },
        "id": "T78JvLBVdmQO",
        "outputId": "1518c33e-41a5-4fa2-b05d-e93f09fcdc5e"
      },
      "outputs": [
        {
          "output_type": "stream",
          "name": "stdout",
          "text": [
            "Observation Space Size:  (84, 84, 1)\n",
            "Actions Space:  Discrete(6)\n"
          ]
        }
      ],
      "source": [
        "env = make_atari_env(env_str, n_envs=1, seed=0)\n",
        "print(\"Observation Space Size: \", env.observation_space.shape)\n",
        "print('Actions Space: ', env.action_space)\n",
        "env.close()"
      ]
    },
    {
      "cell_type": "code",
      "execution_count": 10,
      "metadata": {
        "colab": {
          "base_uri": "https://localhost:8080/"
        },
        "id": "5vCHAlsgg3lu",
        "outputId": "4f3a14a9-8ba2-4c52-e9d9-bf72a780fe0a"
      },
      "outputs": [
        {
          "output_type": "stream",
          "name": "stdout",
          "text": [
            "Observation Space Size:  (210, 160, 3)\n",
            "Actions Space:  Discrete(6)\n"
          ]
        }
      ],
      "source": [
        "env = gymnasium.make(env_str)\n",
        "print(\"Observation Space Size: \", env.observation_space.shape)\n",
        "print('Actions Space: ', env.action_space)\n",
        "env.close()"
      ]
    },
    {
      "cell_type": "code",
      "execution_count": 11,
      "metadata": {
        "id": "h0LNIo42gvAA"
      },
      "outputs": [],
      "source": [
        "# Use Hyperparameters from RL Zoo\n",
        "hyperparams = {\n",
        "    \"env_str\": env_str,\n",
        "    \"rl_type\": rl_type,\n",
        "    \"eval_freq\": 400_000,\n",
        "    \"buffer_size\": 100_000,\n",
        "    \"total_timesteps\": 4_000_000,\n",
        "    \"train_freq\": 4,\n",
        "    \"target_update_interval\": 1_000,\n",
        "    \"gradient_steps\": 1,\n",
        "    \"exploration_fraction\": 0.1,\n",
        "    \"exploration_final_eps\": 0.01,\n",
        "    \"n_envs\": 1,\n",
        "    \"batch_size\": 32,\n",
        "    \"learning_rate\":0.0001,\n",
        "    \"learning_starts\":100_000,\n",
        "    \"optimize_memory_usage\": False,\n",
        "}\n",
        "\n",
        "# atari:\n",
        "#   env_wrapper:\n",
        "#     - stable_baselines3.common.atari_wrappers.AtariWrapper\n",
        "#   frame_stack: 4\n",
        "#   policy: 'CnnPolicy'\n",
        "#   n_timesteps: !!float 1e7\n",
        "#   buffer_size: 100000\n",
        "#   learning_rate: !!float 1e-4\n",
        "#   batch_size: 32\n",
        "#   learning_starts: 100000\n",
        "#   target_update_interval: 1000\n",
        "#   train_freq: 4\n",
        "#   gradient_steps: 1\n",
        "#   exploration_fraction: 0.1\n",
        "#   exploration_final_eps: 0.01\n",
        "#   # If True, you need to deactivate handle_timeout_termination\n",
        "#   # in the replay_buffer_kwargs\n",
        "#   optimize_memory_usage: False"
      ]
    },
    {
      "cell_type": "code",
      "execution_count": 12,
      "metadata": {
        "id": "1bgRLf7cUY-8"
      },
      "outputs": [],
      "source": [
        "# Evaluation Environment Wrapper Arguments\n",
        "# Disable Frame Skipping\n",
        "# Disable Noop Max\n",
        "# https://danieltakeshi.github.io/2016/11/25/frame-skipping-and-preprocessing-for-deep-q-networks-on-atari-2600-games/\n",
        "# https://stable-baselines3.readthedocs.io/en/master/common/atari_wrappers.html\n",
        "\n",
        "# Training Aruguments\n",
        "env_wrap_args = {\"frame_skip\": 4}\n",
        "env_kwargs = {\"render_mode\": \"rgb_array\"}\n",
        "\n",
        "# Evaluation Aruguments\n",
        "env_val_wrap_args = {\"frame_skip\": 4, \"noop_max\": 30}\n",
        "env_val_kwargs = {\"render_mode\": \"rgb_array\"}\n",
        "\n",
        "if(env_str == \"ALE/Pong-v5\"):\n",
        "  env_wrap_args[\"frame_skip\"] = 0\n",
        "  env_val_kwargs[\"frameskip\"] = 32\n",
        "  env_val_kwargs[\"repeat_action_probability\"] = 0.0"
      ]
    },
    {
      "cell_type": "code",
      "execution_count": 13,
      "metadata": {
        "id": "2-oh3mrCI0hk"
      },
      "outputs": [],
      "source": [
        "with open(os.path.join(model_folder_path, 'parameters.json'), 'w') as fp:\n",
        "    parameters = {\"hyperparams\": hyperparams,\n",
        "                  \"env_wrap_args\": env_wrap_args,\n",
        "                  \"env_kwargs\": env_kwargs,\n",
        "                  \"env_val_wrap_args\": env_val_wrap_args,\n",
        "                  \"env_val_kwargs\": env_val_kwargs}\n",
        "    json.dump(parameters, fp, indent=4)"
      ]
    },
    {
      "cell_type": "code",
      "execution_count": 14,
      "metadata": {
        "id": "XxdvhhHvw-1O"
      },
      "outputs": [],
      "source": [
        "class VideoRecordCallback(BaseCallback):\n",
        "    def __init__(\n",
        "        self,\n",
        "        save_path: str,\n",
        "        video_length: int,\n",
        "        save_freq: int = 5_000,\n",
        "        name_prefix: str =\"rl_model\",\n",
        "        verbose: int = 0):\n",
        "\n",
        "        super().__init__(verbose)\n",
        "        self.save_freq = save_freq\n",
        "        self.video_length = video_length\n",
        "        self.save_path = save_path\n",
        "        self.name_prefix = name_prefix\n",
        "        # Those variables will be accessible in the callback\n",
        "        # (they are defined in the base class)\n",
        "        # The RL model\n",
        "        # self.model = None  # type: BaseAlgorithm\n",
        "        # An alias for self.model.get_env(), the environment used for training\n",
        "        # self.training_env # type: VecEnv\n",
        "        # Number of time the callback was called\n",
        "        # self.n_calls = 0  # type: int\n",
        "        # num_timesteps = n_envs * n times env.step() was called\n",
        "        # self.num_timesteps = 0  # type: int\n",
        "        # local and global variables\n",
        "        # self.locals = {}  # type: Dict[str, Any]\n",
        "        # self.globals = {}  # type: Dict[str, Any]\n",
        "        # The logger object, used to report things in the terminal\n",
        "        # self.logger # type: stable_baselines3.common.logger.Logger\n",
        "        # Sometimes, for event callback, it is useful\n",
        "        # to have access to the parent object\n",
        "        # self.parent = None  # type: Optional[BaseCallback]\n",
        "\n",
        "    def _on_step(self) -> bool:\n",
        "        if self.n_calls % self.save_freq == 0:\n",
        "\n",
        "          name_prefix = f\"{self.name_prefix}_{self.num_timesteps}\"\n",
        "\n",
        "          # Record video of the best model playing Atari's Environment\n",
        "          rec_val = make_atari_env(\n",
        "              env_str,\n",
        "              n_envs=1,\n",
        "              seed=1)\n",
        "          rec_val = VecFrameStack(rec_val, n_stack=4)\n",
        "          rec_val = VecTransposeImage(rec_val)\n",
        "          rec_val = VecVideoRecorder(rec_val,\n",
        "                                    self.save_path,\n",
        "                                    video_length=self.video_length,\n",
        "                                    record_video_trigger=lambda x: x == 0,\n",
        "                                    name_prefix=name_prefix)\n",
        "\n",
        "          obs = rec_val.reset()\n",
        "          for _ in range(self.video_length):\n",
        "              action, _states = self.model.predict(obs)\n",
        "              obs, rewards, dones, info = rec_val.step(action)\n",
        "              rec_val.render()\n",
        "              if dones:\n",
        "                break\n",
        "\n",
        "          rec_val.close()\n",
        "        return True"
      ]
    },
    {
      "cell_type": "code",
      "execution_count": 15,
      "metadata": {
        "id": "OxXLoo7erYVa"
      },
      "outputs": [],
      "source": [
        "# Create the Training Atari's Pong environment with appropriate wrappers\n",
        "env = make_atari_env(env_str,\n",
        "                     n_envs=hyperparams[\"n_envs\"],\n",
        "                     seed=0,\n",
        "                     monitor_dir=os.path.join(model_folder_path, \"monitor\"))\n",
        "env = VecFrameStack(env, n_stack=4)\n",
        "env = VecTransposeImage(env)\n",
        "\n",
        "# Create the Evaluation Atari's Pong environment with appropriate wrappers\n",
        "env_val = make_atari_env(env_str,\n",
        "                         n_envs=1,\n",
        "                         seed=1)\n",
        "env_val = VecFrameStack(env_val, n_stack=4)\n",
        "env_val = VecTransposeImage(env_val)"
      ]
    },
    {
      "cell_type": "code",
      "execution_count": 16,
      "metadata": {
        "id": "_wLI5Z46rstT"
      },
      "outputs": [],
      "source": [
        "# Create Callbacks\n",
        "# Create Evaluation Callback\n",
        "# eval_freq - can cause learning instability if set to low\n",
        "eval_callback = EvalCallback(\n",
        "    env_val,\n",
        "    best_model_save_path=model_folder_path,\n",
        "    log_path=model_folder_path,\n",
        "    eval_freq=hyperparams[\"eval_freq\"],\n",
        "    render=False,\n",
        "    deterministic=True,\n",
        "    n_eval_episodes=5)\n",
        "\n",
        "# Create Checkpoint Callback\n",
        "checkpoint_callback = CheckpointCallback(\n",
        "    save_freq=hyperparams[\"eval_freq\"],\n",
        "    save_path=os.path.join(model_folder_path, \"checkpoints\"),\n",
        "    name_prefix=name_prefix,\n",
        "    save_replay_buffer=False,\n",
        "    save_vecnormalize=False,\n",
        ")\n",
        "\n",
        "video_record_callback = VideoRecordCallback(\n",
        "    save_path=os.path.join(model_folder_path, \"videos\"),\n",
        "    video_length=10_000,\n",
        "    save_freq=hyperparams[\"eval_freq\"],\n",
        "    name_prefix=name_prefix)\n",
        "\n",
        "# Create the callback list\n",
        "callbackList = CallbackList([checkpoint_callback,\n",
        "                             video_record_callback,\n",
        "                             eval_callback])"
      ]
    },
    {
      "cell_type": "code",
      "execution_count": 17,
      "metadata": {
        "colab": {
          "base_uri": "https://localhost:8080/"
        },
        "id": "SvPXWTCHiO69",
        "outputId": "98960eff-d39d-424e-dadd-529ec60530a1"
      },
      "outputs": [
        {
          "output_type": "stream",
          "name": "stderr",
          "text": [
            "/usr/local/lib/python3.12/dist-packages/moviepy/config_defaults.py:47: SyntaxWarning: invalid escape sequence '\\P'\n",
            "  IMAGEMAGICK_BINARY = r\"C:\\Program Files\\ImageMagick-6.8.8-Q16\\magick.exe\"\n"
          ]
        },
        {
          "output_type": "stream",
          "name": "stdout",
          "text": [
            "Moviepy - Building video /content/gdrive/MyDrive/Finding Theta/logs/PongNoFrameskip-v4/DQN/training jobs/2025-10-16 15:01:14/videos/atari_pong_dqn_400000-step-0-to-step-2500.mp4.\n",
            "Moviepy - Writing video /content/gdrive/MyDrive/Finding Theta/logs/PongNoFrameskip-v4/DQN/training jobs/2025-10-16 15:01:14/videos/atari_pong_dqn_400000-step-0-to-step-2500.mp4\n",
            "\n"
          ]
        },
        {
          "output_type": "stream",
          "name": "stderr",
          "text": [
            "/usr/local/lib/python3.12/dist-packages/jupyter_client/session.py:203: DeprecationWarning: datetime.datetime.utcnow() is deprecated and scheduled for removal in a future version. Use timezone-aware objects to represent datetimes in UTC: datetime.datetime.now(datetime.UTC).\n",
            "  return datetime.utcnow().replace(tzinfo=utc)\n"
          ]
        },
        {
          "output_type": "stream",
          "name": "stdout",
          "text": [
            "Moviepy - Done !\n",
            "Moviepy - video ready /content/gdrive/MyDrive/Finding Theta/logs/PongNoFrameskip-v4/DQN/training jobs/2025-10-16 15:01:14/videos/atari_pong_dqn_400000-step-0-to-step-2500.mp4\n",
            "Eval num_timesteps=400000, episode_reward=-21.00 +/- 0.00\n",
            "Episode length: 3152.00 +/- 117.58\n",
            "New best mean reward!\n",
            "Saving video to /content/gdrive/MyDrive/Finding Theta/logs/PongNoFrameskip-v4/DQN/training jobs/2025-10-16 15:01:14/videos/atari_pong_dqn_800000-step-0-to-step-2500.mp4\n",
            "Moviepy - Building video /content/gdrive/MyDrive/Finding Theta/logs/PongNoFrameskip-v4/DQN/training jobs/2025-10-16 15:01:14/videos/atari_pong_dqn_800000-step-0-to-step-2500.mp4.\n",
            "Moviepy - Writing video /content/gdrive/MyDrive/Finding Theta/logs/PongNoFrameskip-v4/DQN/training jobs/2025-10-16 15:01:14/videos/atari_pong_dqn_800000-step-0-to-step-2500.mp4\n",
            "\n"
          ]
        },
        {
          "output_type": "stream",
          "name": "stderr",
          "text": []
        },
        {
          "output_type": "stream",
          "name": "stdout",
          "text": [
            "Moviepy - Done !\n",
            "Moviepy - video ready /content/gdrive/MyDrive/Finding Theta/logs/PongNoFrameskip-v4/DQN/training jobs/2025-10-16 15:01:14/videos/atari_pong_dqn_800000-step-0-to-step-2500.mp4\n",
            "Eval num_timesteps=800000, episode_reward=-9.00 +/- 6.00\n",
            "Episode length: 14410.80 +/- 1525.60\n",
            "New best mean reward!\n",
            "Saving video to /content/gdrive/MyDrive/Finding Theta/logs/PongNoFrameskip-v4/DQN/training jobs/2025-10-16 15:01:14/videos/atari_pong_dqn_1200000-step-0-to-step-2500.mp4\n",
            "Moviepy - Building video /content/gdrive/MyDrive/Finding Theta/logs/PongNoFrameskip-v4/DQN/training jobs/2025-10-16 15:01:14/videos/atari_pong_dqn_1200000-step-0-to-step-2500.mp4.\n",
            "Moviepy - Writing video /content/gdrive/MyDrive/Finding Theta/logs/PongNoFrameskip-v4/DQN/training jobs/2025-10-16 15:01:14/videos/atari_pong_dqn_1200000-step-0-to-step-2500.mp4\n",
            "\n"
          ]
        },
        {
          "output_type": "stream",
          "name": "stderr",
          "text": []
        },
        {
          "output_type": "stream",
          "name": "stdout",
          "text": [
            "Moviepy - Done !\n",
            "Moviepy - video ready /content/gdrive/MyDrive/Finding Theta/logs/PongNoFrameskip-v4/DQN/training jobs/2025-10-16 15:01:14/videos/atari_pong_dqn_1200000-step-0-to-step-2500.mp4\n",
            "Eval num_timesteps=1200000, episode_reward=-0.40 +/- 11.60\n",
            "Episode length: 49890.00 +/- 47536.91\n",
            "New best mean reward!\n",
            "Moviepy - Building video /content/gdrive/MyDrive/Finding Theta/logs/PongNoFrameskip-v4/DQN/training jobs/2025-10-16 15:01:14/videos/atari_pong_dqn_1600000-step-0-to-step-2500.mp4.\n",
            "Moviepy - Writing video /content/gdrive/MyDrive/Finding Theta/logs/PongNoFrameskip-v4/DQN/training jobs/2025-10-16 15:01:14/videos/atari_pong_dqn_1600000-step-0-to-step-2500.mp4\n",
            "\n"
          ]
        },
        {
          "output_type": "stream",
          "name": "stderr",
          "text": []
        },
        {
          "output_type": "stream",
          "name": "stdout",
          "text": [
            "Moviepy - Done !\n",
            "Moviepy - video ready /content/gdrive/MyDrive/Finding Theta/logs/PongNoFrameskip-v4/DQN/training jobs/2025-10-16 15:01:14/videos/atari_pong_dqn_1600000-step-0-to-step-2500.mp4\n",
            "Eval num_timesteps=1600000, episode_reward=20.40 +/- 0.80\n",
            "Episode length: 7460.00 +/- 717.14\n",
            "New best mean reward!\n",
            "Moviepy - Building video /content/gdrive/MyDrive/Finding Theta/logs/PongNoFrameskip-v4/DQN/training jobs/2025-10-16 15:01:14/videos/atari_pong_dqn_2000000-step-0-to-step-2500.mp4.\n",
            "Moviepy - Writing video /content/gdrive/MyDrive/Finding Theta/logs/PongNoFrameskip-v4/DQN/training jobs/2025-10-16 15:01:14/videos/atari_pong_dqn_2000000-step-0-to-step-2500.mp4\n",
            "\n"
          ]
        },
        {
          "output_type": "stream",
          "name": "stderr",
          "text": []
        },
        {
          "output_type": "stream",
          "name": "stdout",
          "text": [
            "Moviepy - Done !\n",
            "Moviepy - video ready /content/gdrive/MyDrive/Finding Theta/logs/PongNoFrameskip-v4/DQN/training jobs/2025-10-16 15:01:14/videos/atari_pong_dqn_2000000-step-0-to-step-2500.mp4\n",
            "Eval num_timesteps=2000000, episode_reward=17.40 +/- 4.13\n",
            "Episode length: 10024.20 +/- 2982.98\n",
            "Saving video to /content/gdrive/MyDrive/Finding Theta/logs/PongNoFrameskip-v4/DQN/training jobs/2025-10-16 15:01:14/videos/atari_pong_dqn_2400000-step-0-to-step-2500.mp4\n",
            "Moviepy - Building video /content/gdrive/MyDrive/Finding Theta/logs/PongNoFrameskip-v4/DQN/training jobs/2025-10-16 15:01:14/videos/atari_pong_dqn_2400000-step-0-to-step-2500.mp4.\n",
            "Moviepy - Writing video /content/gdrive/MyDrive/Finding Theta/logs/PongNoFrameskip-v4/DQN/training jobs/2025-10-16 15:01:14/videos/atari_pong_dqn_2400000-step-0-to-step-2500.mp4\n",
            "\n"
          ]
        },
        {
          "output_type": "stream",
          "name": "stderr",
          "text": []
        },
        {
          "output_type": "stream",
          "name": "stdout",
          "text": [
            "Moviepy - Done !\n",
            "Moviepy - video ready /content/gdrive/MyDrive/Finding Theta/logs/PongNoFrameskip-v4/DQN/training jobs/2025-10-16 15:01:14/videos/atari_pong_dqn_2400000-step-0-to-step-2500.mp4\n",
            "Eval num_timesteps=2400000, episode_reward=20.60 +/- 0.49\n",
            "Episode length: 7376.20 +/- 735.01\n",
            "New best mean reward!\n",
            "Saving video to /content/gdrive/MyDrive/Finding Theta/logs/PongNoFrameskip-v4/DQN/training jobs/2025-10-16 15:01:14/videos/atari_pong_dqn_2800000-step-0-to-step-2500.mp4\n",
            "Moviepy - Building video /content/gdrive/MyDrive/Finding Theta/logs/PongNoFrameskip-v4/DQN/training jobs/2025-10-16 15:01:14/videos/atari_pong_dqn_2800000-step-0-to-step-2500.mp4.\n",
            "Moviepy - Writing video /content/gdrive/MyDrive/Finding Theta/logs/PongNoFrameskip-v4/DQN/training jobs/2025-10-16 15:01:14/videos/atari_pong_dqn_2800000-step-0-to-step-2500.mp4\n",
            "\n"
          ]
        },
        {
          "output_type": "stream",
          "name": "stderr",
          "text": []
        },
        {
          "output_type": "stream",
          "name": "stdout",
          "text": [
            "Moviepy - Done !\n",
            "Moviepy - video ready /content/gdrive/MyDrive/Finding Theta/logs/PongNoFrameskip-v4/DQN/training jobs/2025-10-16 15:01:14/videos/atari_pong_dqn_2800000-step-0-to-step-2500.mp4\n",
            "Eval num_timesteps=2800000, episode_reward=20.60 +/- 0.49\n",
            "Episode length: 8451.00 +/- 962.02\n",
            "Moviepy - Building video /content/gdrive/MyDrive/Finding Theta/logs/PongNoFrameskip-v4/DQN/training jobs/2025-10-16 15:01:14/videos/atari_pong_dqn_3200000-step-0-to-step-2500.mp4.\n",
            "Moviepy - Writing video /content/gdrive/MyDrive/Finding Theta/logs/PongNoFrameskip-v4/DQN/training jobs/2025-10-16 15:01:14/videos/atari_pong_dqn_3200000-step-0-to-step-2500.mp4\n",
            "\n"
          ]
        },
        {
          "output_type": "stream",
          "name": "stderr",
          "text": []
        },
        {
          "output_type": "stream",
          "name": "stdout",
          "text": [
            "Moviepy - Done !\n",
            "Moviepy - video ready /content/gdrive/MyDrive/Finding Theta/logs/PongNoFrameskip-v4/DQN/training jobs/2025-10-16 15:01:14/videos/atari_pong_dqn_3200000-step-0-to-step-2500.mp4\n",
            "Eval num_timesteps=3200000, episode_reward=20.80 +/- 0.40\n",
            "Episode length: 8199.20 +/- 1049.44\n",
            "New best mean reward!\n",
            "Saving video to /content/gdrive/MyDrive/Finding Theta/logs/PongNoFrameskip-v4/DQN/training jobs/2025-10-16 15:01:14/videos/atari_pong_dqn_3600000-step-0-to-step-2500.mp4\n",
            "Moviepy - Building video /content/gdrive/MyDrive/Finding Theta/logs/PongNoFrameskip-v4/DQN/training jobs/2025-10-16 15:01:14/videos/atari_pong_dqn_3600000-step-0-to-step-2500.mp4.\n",
            "Moviepy - Writing video /content/gdrive/MyDrive/Finding Theta/logs/PongNoFrameskip-v4/DQN/training jobs/2025-10-16 15:01:14/videos/atari_pong_dqn_3600000-step-0-to-step-2500.mp4\n",
            "\n"
          ]
        },
        {
          "output_type": "stream",
          "name": "stderr",
          "text": []
        },
        {
          "output_type": "stream",
          "name": "stdout",
          "text": [
            "Moviepy - Done !\n",
            "Moviepy - video ready /content/gdrive/MyDrive/Finding Theta/logs/PongNoFrameskip-v4/DQN/training jobs/2025-10-16 15:01:14/videos/atari_pong_dqn_3600000-step-0-to-step-2500.mp4\n",
            "Eval num_timesteps=3600000, episode_reward=20.40 +/- 0.49\n",
            "Episode length: 9604.60 +/- 1328.93\n",
            "Saving video to /content/gdrive/MyDrive/Finding Theta/logs/PongNoFrameskip-v4/DQN/training jobs/2025-10-16 15:01:14/videos/atari_pong_dqn_4000000-step-0-to-step-2500.mp4\n",
            "Moviepy - Building video /content/gdrive/MyDrive/Finding Theta/logs/PongNoFrameskip-v4/DQN/training jobs/2025-10-16 15:01:14/videos/atari_pong_dqn_4000000-step-0-to-step-2500.mp4.\n",
            "Moviepy - Writing video /content/gdrive/MyDrive/Finding Theta/logs/PongNoFrameskip-v4/DQN/training jobs/2025-10-16 15:01:14/videos/atari_pong_dqn_4000000-step-0-to-step-2500.mp4\n",
            "\n"
          ]
        },
        {
          "output_type": "stream",
          "name": "stderr",
          "text": []
        },
        {
          "output_type": "stream",
          "name": "stdout",
          "text": [
            "Moviepy - Done !\n",
            "Moviepy - video ready /content/gdrive/MyDrive/Finding Theta/logs/PongNoFrameskip-v4/DQN/training jobs/2025-10-16 15:01:14/videos/atari_pong_dqn_4000000-step-0-to-step-2500.mp4\n",
            "Eval num_timesteps=4000000, episode_reward=19.80 +/- 1.47\n",
            "Episode length: 10295.80 +/- 108.26\n"
          ]
        }
      ],
      "source": [
        "# Initialize DQN\n",
        "model = DQN('CnnPolicy',\n",
        "            env,\n",
        "            verbose=0,\n",
        "            buffer_size=hyperparams[\"buffer_size\"],\n",
        "            batch_size=hyperparams[\"batch_size\"],\n",
        "            learning_rate=hyperparams[\"learning_rate\"],\n",
        "            learning_starts=hyperparams[\"learning_starts\"],\n",
        "            train_freq=hyperparams[\"train_freq\"],\n",
        "            gradient_steps=hyperparams[\"gradient_steps\"],\n",
        "            target_update_interval=hyperparams[\"target_update_interval\"],\n",
        "            exploration_fraction=hyperparams[\"exploration_fraction\"],\n",
        "            exploration_final_eps=hyperparams[\"exploration_final_eps\"],\n",
        "            optimize_memory_usage=hyperparams[\"optimize_memory_usage\"],\n",
        "            tensorboard_log=os.path.join(log_dir, \"tensorboard\"))\n",
        "\n",
        "# Train the model\n",
        "model.learn(total_timesteps=hyperparams[\"total_timesteps\"],\n",
        "            progress_bar=False,\n",
        "            callback=callbackList)\n",
        "\n",
        "# Save the trained model\n",
        "model.save(os.path.join(model_folder_path, \"final_model\"))\n",
        "\n",
        "env.close()\n",
        "env_val.close()"
      ]
    },
    {
      "cell_type": "code",
      "execution_count": 18,
      "metadata": {
        "id": "DFZCWZfHlSv8"
      },
      "outputs": [],
      "source": [
        "# # Get model path from last training job (uncomment if training job interrupted)\n",
        "# # List all entries in the directory\n",
        "# entries = os.listdir(training_data_path)\n",
        "\n",
        "# # Filter out only directories\n",
        "# folders = [entry for entry in entries if os.path.isdir(os.path.join(training_data_path, entry))]\n",
        "\n",
        "# # Sort the folders alphabetically\n",
        "# folders.sort()\n",
        "\n",
        "# # Get the last folder\n",
        "# model_folder_path = os.path.join(training_data_path, folders[-1])\n",
        "# print(model_folder_path)"
      ]
    },
    {
      "cell_type": "markdown",
      "metadata": {
        "id": "iL354gSDOsiV"
      },
      "source": [
        "## Elevate Best Model and Record Playback"
      ]
    },
    {
      "cell_type": "code",
      "execution_count": 19,
      "metadata": {
        "colab": {
          "base_uri": "https://localhost:8080/"
        },
        "id": "OqwJT0bhcOu0",
        "outputId": "467a40d7-ab9e-4159-cff1-869f6cd7d90b"
      },
      "outputs": [
        {
          "output_type": "stream",
          "name": "stdout",
          "text": [
            "Best Model - Mean reward: 20.60 +/- 0.49\n",
            "Moviepy - Building video /content/gdrive/MyDrive/Finding Theta/logs/PongNoFrameskip-v4/DQN/best_model_atari_pong_dqn-step-0-to-step-5000.mp4.\n",
            "Moviepy - Writing video /content/gdrive/MyDrive/Finding Theta/logs/PongNoFrameskip-v4/DQN/best_model_atari_pong_dqn-step-0-to-step-5000.mp4\n",
            "\n"
          ]
        },
        {
          "output_type": "stream",
          "name": "stderr",
          "text": [
            "                                                                  "
          ]
        },
        {
          "output_type": "stream",
          "name": "stdout",
          "text": [
            "Moviepy - Done !\n",
            "Moviepy - video ready /content/gdrive/MyDrive/Finding Theta/logs/PongNoFrameskip-v4/DQN/best_model_atari_pong_dqn-step-0-to-step-5000.mp4\n"
          ]
        },
        {
          "output_type": "stream",
          "name": "stderr",
          "text": [
            "\r"
          ]
        }
      ],
      "source": [
        "# Create the Evaluation Atari's Pong environment with appropriate wrappers\n",
        "env_val = make_atari_env(env_str,\n",
        "                         n_envs=1,\n",
        "                         seed=1)\n",
        "env_val = VecFrameStack(env_val, n_stack=4)\n",
        "env_val = VecTransposeImage(env_val)\n",
        "\n",
        "# Load the best model\n",
        "best_model_path = os.path.join(model_folder_path, \"best_model\")\n",
        "best_model = DQN.load(best_model_path, env=env_val)\n",
        "\n",
        "mean_reward, std_reward = evaluate_policy(best_model,\n",
        "                                          env_val,\n",
        "                                          n_eval_episodes=5)\n",
        "\n",
        "print(f\"Best Model - Mean reward: {mean_reward:.2f} +/- {std_reward:.2f}\")\n",
        "\n",
        "best_metrics_path = os.path.join(log_dir, \"best_model_metrics.csv\")\n",
        "\n",
        "# Create Best Model Metrics file if not there\n",
        "if(not os.path.isfile(best_metrics_path)):\n",
        "  with open(best_metrics_path, 'w', newline='') as csvfile:\n",
        "    writer = csv.writer(csvfile)\n",
        "    writer.writerow([\"run_date\",\n",
        "                     \"batch_size\",\n",
        "                     \"learning_rate\",\n",
        "                     \"num_timesteps\",\n",
        "                     \"mean_reward\",\n",
        "                     \"std_reward\",\n",
        "                     \"n_envs\",\n",
        "                     \"gamma\",\n",
        "                     \"seed\"])\n",
        "\n",
        "new_data = [os.path.basename(os.path.normpath(model_folder_path)),\n",
        "            best_model.batch_size,\n",
        "            best_model.learning_rate,\n",
        "            best_model.num_timesteps,\n",
        "            mean_reward,\n",
        "            std_reward,\n",
        "            best_model.n_envs,\n",
        "            best_model.gamma,\n",
        "            best_model.seed]\n",
        "\n",
        "with open(best_metrics_path, 'a', newline='') as csvfile:\n",
        "    writer = csv.writer(csvfile)\n",
        "    writer.writerow(new_data)\n",
        "\n",
        "# Record video of the best model playing Atari's Pong\n",
        "best_model_file_name = \"best_model_{}\".format(name_prefix)\n",
        "rec_val = VecVideoRecorder(env_val,\n",
        "                           os.path.join(model_folder_path, \"videos\"),\n",
        "                           video_length=10_000,\n",
        "                           record_video_trigger=lambda x: x == 0,\n",
        "                           name_prefix=best_model_file_name)\n",
        "\n",
        "obs = rec_val.reset()\n",
        "for _ in range(10_000):\n",
        "    action, _states = best_model.predict(obs)\n",
        "    obs, rewards, dones, info = rec_val.step(action)\n",
        "    rec_val.render()\n",
        "    if dones:\n",
        "      break\n",
        "\n",
        "env_val.close()\n",
        "rec_val.close()"
      ]
    },
    {
      "cell_type": "code",
      "execution_count": 20,
      "metadata": {
        "colab": {
          "base_uri": "https://localhost:8080/"
        },
        "id": "5omjtaubDH1U",
        "outputId": "b8e35f10-7fb5-4b67-a638-232a0a609855"
      },
      "outputs": [
        {
          "output_type": "stream",
          "name": "stdout",
          "text": [
            "CnnPolicy(\n",
            "  (q_net): QNetwork(\n",
            "    (features_extractor): NatureCNN(\n",
            "      (cnn): Sequential(\n",
            "        (0): Conv2d(4, 32, kernel_size=(8, 8), stride=(4, 4))\n",
            "        (1): ReLU()\n",
            "        (2): Conv2d(32, 64, kernel_size=(4, 4), stride=(2, 2))\n",
            "        (3): ReLU()\n",
            "        (4): Conv2d(64, 64, kernel_size=(3, 3), stride=(1, 1))\n",
            "        (5): ReLU()\n",
            "        (6): Flatten(start_dim=1, end_dim=-1)\n",
            "      )\n",
            "      (linear): Sequential(\n",
            "        (0): Linear(in_features=3136, out_features=512, bias=True)\n",
            "        (1): ReLU()\n",
            "      )\n",
            "    )\n",
            "    (q_net): Sequential(\n",
            "      (0): Linear(in_features=512, out_features=6, bias=True)\n",
            "    )\n",
            "  )\n",
            "  (q_net_target): QNetwork(\n",
            "    (features_extractor): NatureCNN(\n",
            "      (cnn): Sequential(\n",
            "        (0): Conv2d(4, 32, kernel_size=(8, 8), stride=(4, 4))\n",
            "        (1): ReLU()\n",
            "        (2): Conv2d(32, 64, kernel_size=(4, 4), stride=(2, 2))\n",
            "        (3): ReLU()\n",
            "        (4): Conv2d(64, 64, kernel_size=(3, 3), stride=(1, 1))\n",
            "        (5): ReLU()\n",
            "        (6): Flatten(start_dim=1, end_dim=-1)\n",
            "      )\n",
            "      (linear): Sequential(\n",
            "        (0): Linear(in_features=3136, out_features=512, bias=True)\n",
            "        (1): ReLU()\n",
            "      )\n",
            "    )\n",
            "    (q_net): Sequential(\n",
            "      (0): Linear(in_features=512, out_features=6, bias=True)\n",
            "    )\n",
            "  )\n",
            ")\n"
          ]
        }
      ],
      "source": [
        "# Print Model\n",
        "print(best_model.policy)"
      ]
    },
    {
      "cell_type": "code",
      "execution_count": 21,
      "metadata": {
        "colab": {
          "base_uri": "https://localhost:8080/",
          "height": 472
        },
        "id": "Xisgp9SfcONO",
        "outputId": "e344c7ba-def0-42be-eefa-1ca15c42b4f5"
      },
      "outputs": [
        {
          "output_type": "display_data",
          "data": {
            "text/plain": [
              "<Figure size 640x480 with 1 Axes>"
            ],
            "image/png": "[encoded data removed]"
          },
          "metadata": {}
        }
      ],
      "source": [
        "# Load the evaluations.npz file\n",
        "data = numpy.load(os.path.join(model_folder_path, \"evaluations.npz\"))\n",
        "\n",
        "# Extract the relevant data\n",
        "timesteps = data['timesteps']\n",
        "results = data['results']\n",
        "\n",
        "# Calculate the mean and standard deviation of the results\n",
        "mean_results = numpy.mean(results, axis=1)\n",
        "std_results = numpy.std(results, axis=1)\n",
        "\n",
        "# Plot the results\n",
        "matplotlib.pyplot.figure()\n",
        "matplotlib.pyplot.plot(timesteps, mean_results)\n",
        "matplotlib.pyplot.fill_between(timesteps,\n",
        "                               mean_results - std_results,\n",
        "                               mean_results + std_results,\n",
        "                               alpha=0.3)\n",
        "\n",
        "matplotlib.pyplot.xlabel('Timesteps')\n",
        "matplotlib.pyplot.ylabel('Mean Reward')\n",
        "matplotlib.pyplot.title(f\"{rl_type} Performance on {env_str}\")\n",
        "matplotlib.pyplot.savefig(os.path.join(model_folder_path, f\"{rl_type}_{env_str}_performance.png\"))\n",
        "matplotlib.pyplot.show()"
      ]
    },
    {
      "cell_type": "code",
      "execution_count": 21,
      "metadata": {
        "id": "MzQUPGhnyYjT"
      },
      "outputs": [],
      "source": []
    }
  ],
  "metadata": {
    "accelerator": "GPU",
    "colab": {
      "gpuType": "L4",
      "machine_shape": "hm",
      "provenance": [],
      "authorship_tag": "ABX9TyMPZTPvZ6yZAuHLk8fPu6Pt",
      "include_colab_link": true
    },
    "kernelspec": {
      "display_name": "Python 3",
      "name": "python3"
    },
    "language_info": {
      "name": "python"
    }
  },
  "nbformat": 4,
  "nbformat_minor": 0
}