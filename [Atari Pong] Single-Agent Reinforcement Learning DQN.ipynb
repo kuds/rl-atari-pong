{
  "nbformat": 4,
  "nbformat_minor": 0,
  "metadata": {
    "colab": {
      "provenance": [],
      "gpuType": "T4",
      "authorship_tag": "ABX9TyP70OVx6tqNJwJp/+zfzgEa",
      "include_colab_link": true
    },
    "kernelspec": {
      "name": "python3",
      "display_name": "Python 3"
    },
    "language_info": {
      "name": "python"
    },
    "accelerator": "GPU"
  },
  "cells": [
    {
      "cell_type": "markdown",
      "metadata": {
        "id": "view-in-github",
        "colab_type": "text"
      },
      "source": [
        "<a href=\"https://colab.research.google.com/github/kuds/rl-atari-pong/blob/main/%5BAtari%20Pong%5D%20Single-Agent%20Reinforcement%20Learning%20DQN.ipynb\" target=\"_parent\"><img src=\"https://colab.research.google.com/assets/colab-badge.svg\" alt=\"Open In Colab\"/></a>"
      ]
    },
    {
      "cell_type": "markdown",
      "source": [
        "# [Atari Pong] Single-Agent Reinforcement Learning DQN"
      ],
      "metadata": {
        "id": "ob-2hGT3jNdX"
      }
    },
    {
      "cell_type": "code",
      "source": [
        "!pip install swig"
      ],
      "metadata": {
        "id": "Fy1WJ1R-iP4V",
        "colab": {
          "base_uri": "https://localhost:8080/"
        },
        "outputId": "eedf1c4b-86fd-4bff-ee3f-efd267f191b3"
      },
      "execution_count": 1,
      "outputs": [
        {
          "output_type": "stream",
          "name": "stdout",
          "text": [
            "Requirement already satisfied: swig in /usr/local/lib/python3.10/dist-packages (4.3.0)\n"
          ]
        }
      ]
    },
    {
      "cell_type": "code",
      "source": [
        "!pip install stable-baselines3"
      ],
      "metadata": {
        "id": "7U_qTvGlj2oy",
        "colab": {
          "base_uri": "https://localhost:8080/"
        },
        "outputId": "587b7aa0-b349-4702-a687-2523c087011b"
      },
      "execution_count": 2,
      "outputs": [
        {
          "output_type": "stream",
          "name": "stdout",
          "text": [
            "Requirement already satisfied: stable-baselines3 in /usr/local/lib/python3.10/dist-packages (2.4.0)\n",
            "Requirement already satisfied: gymnasium<1.1.0,>=0.29.1 in /usr/local/lib/python3.10/dist-packages (from stable-baselines3) (1.0.0)\n",
            "Requirement already satisfied: numpy<2.0,>=1.20 in /usr/local/lib/python3.10/dist-packages (from stable-baselines3) (1.26.4)\n",
            "Requirement already satisfied: torch>=1.13 in /usr/local/lib/python3.10/dist-packages (from stable-baselines3) (2.5.1+cu121)\n",
            "Requirement already satisfied: cloudpickle in /usr/local/lib/python3.10/dist-packages (from stable-baselines3) (3.1.0)\n",
            "Requirement already satisfied: pandas in /usr/local/lib/python3.10/dist-packages (from stable-baselines3) (2.2.2)\n",
            "Requirement already satisfied: matplotlib in /usr/local/lib/python3.10/dist-packages (from stable-baselines3) (3.8.0)\n",
            "Requirement already satisfied: typing-extensions>=4.3.0 in /usr/local/lib/python3.10/dist-packages (from gymnasium<1.1.0,>=0.29.1->stable-baselines3) (4.12.2)\n",
            "Requirement already satisfied: farama-notifications>=0.0.1 in /usr/local/lib/python3.10/dist-packages (from gymnasium<1.1.0,>=0.29.1->stable-baselines3) (0.0.4)\n",
            "Requirement already satisfied: filelock in /usr/local/lib/python3.10/dist-packages (from torch>=1.13->stable-baselines3) (3.16.1)\n",
            "Requirement already satisfied: networkx in /usr/local/lib/python3.10/dist-packages (from torch>=1.13->stable-baselines3) (3.4.2)\n",
            "Requirement already satisfied: jinja2 in /usr/local/lib/python3.10/dist-packages (from torch>=1.13->stable-baselines3) (3.1.4)\n",
            "Requirement already satisfied: fsspec in /usr/local/lib/python3.10/dist-packages (from torch>=1.13->stable-baselines3) (2024.10.0)\n",
            "Requirement already satisfied: sympy==1.13.1 in /usr/local/lib/python3.10/dist-packages (from torch>=1.13->stable-baselines3) (1.13.1)\n",
            "Requirement already satisfied: mpmath<1.4,>=1.1.0 in /usr/local/lib/python3.10/dist-packages (from sympy==1.13.1->torch>=1.13->stable-baselines3) (1.3.0)\n",
            "Requirement already satisfied: contourpy>=1.0.1 in /usr/local/lib/python3.10/dist-packages (from matplotlib->stable-baselines3) (1.3.1)\n",
            "Requirement already satisfied: cycler>=0.10 in /usr/local/lib/python3.10/dist-packages (from matplotlib->stable-baselines3) (0.12.1)\n",
            "Requirement already satisfied: fonttools>=4.22.0 in /usr/local/lib/python3.10/dist-packages (from matplotlib->stable-baselines3) (4.55.3)\n",
            "Requirement already satisfied: kiwisolver>=1.0.1 in /usr/local/lib/python3.10/dist-packages (from matplotlib->stable-baselines3) (1.4.7)\n",
            "Requirement already satisfied: packaging>=20.0 in /usr/local/lib/python3.10/dist-packages (from matplotlib->stable-baselines3) (24.2)\n",
            "Requirement already satisfied: pillow>=6.2.0 in /usr/local/lib/python3.10/dist-packages (from matplotlib->stable-baselines3) (11.0.0)\n",
            "Requirement already satisfied: pyparsing>=2.3.1 in /usr/local/lib/python3.10/dist-packages (from matplotlib->stable-baselines3) (3.2.0)\n",
            "Requirement already satisfied: python-dateutil>=2.7 in /usr/local/lib/python3.10/dist-packages (from matplotlib->stable-baselines3) (2.8.2)\n",
            "Requirement already satisfied: pytz>=2020.1 in /usr/local/lib/python3.10/dist-packages (from pandas->stable-baselines3) (2024.2)\n",
            "Requirement already satisfied: tzdata>=2022.7 in /usr/local/lib/python3.10/dist-packages (from pandas->stable-baselines3) (2024.2)\n",
            "Requirement already satisfied: six>=1.5 in /usr/local/lib/python3.10/dist-packages (from python-dateutil>=2.7->matplotlib->stable-baselines3) (1.17.0)\n",
            "Requirement already satisfied: MarkupSafe>=2.0 in /usr/local/lib/python3.10/dist-packages (from jinja2->torch>=1.13->stable-baselines3) (3.0.2)\n"
          ]
        }
      ]
    },
    {
      "cell_type": "code",
      "source": [
        "!pip install gymnasium[atari] ale-py"
      ],
      "metadata": {
        "id": "Le7dztPUkVz4",
        "colab": {
          "base_uri": "https://localhost:8080/"
        },
        "outputId": "e1eea2e8-ec26-428a-ef5d-2ec37560e110"
      },
      "execution_count": 3,
      "outputs": [
        {
          "output_type": "stream",
          "name": "stdout",
          "text": [
            "Requirement already satisfied: ale-py in /usr/local/lib/python3.10/dist-packages (0.10.1)\n",
            "Requirement already satisfied: gymnasium[atari] in /usr/local/lib/python3.10/dist-packages (1.0.0)\n",
            "Requirement already satisfied: numpy>=1.21.0 in /usr/local/lib/python3.10/dist-packages (from gymnasium[atari]) (1.26.4)\n",
            "Requirement already satisfied: cloudpickle>=1.2.0 in /usr/local/lib/python3.10/dist-packages (from gymnasium[atari]) (3.1.0)\n",
            "Requirement already satisfied: typing-extensions>=4.3.0 in /usr/local/lib/python3.10/dist-packages (from gymnasium[atari]) (4.12.2)\n",
            "Requirement already satisfied: farama-notifications>=0.0.1 in /usr/local/lib/python3.10/dist-packages (from gymnasium[atari]) (0.0.4)\n"
          ]
        }
      ]
    },
    {
      "cell_type": "code",
      "source": [
        "import os\n",
        "import csv\n",
        "import time\n",
        "import json\n",
        "import platform\n",
        "import torch\n",
        "import numpy\n",
        "import stable_baselines3\n",
        "from stable_baselines3 import DQN\n",
        "from stable_baselines3.common.env_util import make_atari_env\n",
        "from stable_baselines3.common.vec_env import VecFrameStack\n",
        "from stable_baselines3.common.evaluation import evaluate_policy\n",
        "from stable_baselines3.common.callbacks import EvalCallback\n",
        "from stable_baselines3.common.env_util import make_vec_env\n",
        "from stable_baselines3.common.callbacks import CallbackList\n",
        "from stable_baselines3.common.callbacks import BaseCallback\n",
        "from stable_baselines3.common.callbacks import CheckpointCallback\n",
        "from stable_baselines3.common.vec_env import VecVideoRecorder\n",
        "from stable_baselines3.common.vec_env import VecTransposeImage\n",
        "import matplotlib.pyplot\n",
        "import matplotlib\n",
        "import ale_py\n",
        "import gymnasium\n",
        "from importlib.metadata import version\n",
        "from datetime import datetime\n",
        "import google.colab.drive"
      ],
      "metadata": {
        "id": "o89JlEiexh1-"
      },
      "execution_count": 4,
      "outputs": []
    },
    {
      "cell_type": "code",
      "source": [
        "print(f\"Python Version: {platform.python_version()}\")\n",
        "print(f\"Torch Version: {version('torch')}\")\n",
        "print(f\"Is Cuda Available: {torch.cuda.is_available()}\")\n",
        "print(f\"Cuda Version: {torch.version.cuda}\")\n",
        "print(f\"Gymnasium Version: {version('gymnasium')}\")\n",
        "print(f\"Numpy Version: {version('numpy')}\")\n",
        "print(f\"Stable Baselines3 Version: {version('stable_baselines3')}\")\n",
        "print(f\"ALE Version: {version('ale_py')}\")"
      ],
      "metadata": {
        "id": "KRrJSPuDiDN4",
        "colab": {
          "base_uri": "https://localhost:8080/"
        },
        "outputId": "db6a19c8-f3da-4c4d-bbaa-5a41490670bc"
      },
      "execution_count": 5,
      "outputs": [
        {
          "output_type": "stream",
          "name": "stdout",
          "text": [
            "Python Version: 3.10.12\n",
            "Torch Version: 2.5.1+cu121\n",
            "Is Cuda Available: True\n",
            "Cuda Version: 12.1\n",
            "Gymnasium Version: 1.0.0\n",
            "Numpy Version: 1.26.4\n",
            "Stable Baselines3 Version: 2.4.0\n",
            "ALE Version: 0.10.1\n"
          ]
        },
        {
          "output_type": "stream",
          "name": "stderr",
          "text": [
            "/usr/local/lib/python3.10/dist-packages/ipykernel/ipkernel.py:283: DeprecationWarning: `should_run_async` will not call `transform_cell` automatically in the future. Please pass the result to `transformed_cell` argument and any exception that happen during thetransform in `preprocessing_exc_tuple` in IPython 7.17 and above.\n",
            "  and should_run_async(code)\n"
          ]
        }
      ]
    },
    {
      "cell_type": "code",
      "source": [
        "gdrive_path = \"/content/gdrive\"\n",
        "google.colab.drive.mount(gdrive_path, force_remount=True)"
      ],
      "metadata": {
        "id": "LKxm5e7iGW_-",
        "colab": {
          "base_uri": "https://localhost:8080/"
        },
        "outputId": "1835c79a-070c-406e-c8ee-4db56f972924"
      },
      "execution_count": 6,
      "outputs": [
        {
          "output_type": "stream",
          "name": "stdout",
          "text": [
            "Mounted at /content/gdrive\n"
          ]
        }
      ]
    },
    {
      "cell_type": "code",
      "source": [
        "rl_type = \"DQN\"\n",
        "env_str =  \"PongNoFrameskip-v4\" #\"ALE/Pong-v5\"\n",
        "name_prefix = \"atari_pong_dqn\"\n",
        "log_dir = \"{}/MyDrive/Finding Theta/logs/{}/{}\".format(gdrive_path,\n",
        "                                                       env_str,\n",
        "                                                       rl_type)\n",
        "training_data_path = os.path.join(log_dir, \"training jobs\")\n",
        "time_folder = datetime.now().strftime('%Y-%m-%d %H:%M:%S')\n",
        "model_folder_path = os.path.join(log_dir, \"training jobs\", time_folder)"
      ],
      "metadata": {
        "id": "aR7w3BqcFiIO"
      },
      "execution_count": 7,
      "outputs": []
    },
    {
      "cell_type": "code",
      "source": [
        "#Create Folders\n",
        "os.makedirs(log_dir, exist_ok=True)\n",
        "os.makedirs(training_data_path, exist_ok=True)\n",
        "os.makedirs(model_folder_path, exist_ok=True)"
      ],
      "metadata": {
        "id": "TKSfoDHMdbsf"
      },
      "execution_count": 8,
      "outputs": []
    },
    {
      "cell_type": "code",
      "source": [
        "env = make_atari_env(env_str, n_envs=1, seed=0)\n",
        "print(\"Observation Space Size: \", env.observation_space.shape)\n",
        "print('Actions Space: ', env.action_space)\n",
        "env.close()"
      ],
      "metadata": {
        "id": "T78JvLBVdmQO",
        "colab": {
          "base_uri": "https://localhost:8080/"
        },
        "outputId": "7c534ded-ca87-4147-c2e8-ca534b60f3ec"
      },
      "execution_count": 9,
      "outputs": [
        {
          "output_type": "stream",
          "name": "stdout",
          "text": [
            "Observation Space Size:  (84, 84, 1)\n",
            "Actions Space:  Discrete(6)\n"
          ]
        }
      ]
    },
    {
      "cell_type": "code",
      "source": [
        "env = gymnasium.make(env_str)\n",
        "print(\"Observation Space Size: \", env.observation_space.shape)\n",
        "print('Actions Space: ', env.action_space)\n",
        "env.close()"
      ],
      "metadata": {
        "id": "5vCHAlsgg3lu",
        "colab": {
          "base_uri": "https://localhost:8080/"
        },
        "outputId": "c12dbbf2-9547-45b2-9159-741c22b18484"
      },
      "execution_count": 10,
      "outputs": [
        {
          "output_type": "stream",
          "name": "stdout",
          "text": [
            "Observation Space Size:  (210, 160, 3)\n",
            "Actions Space:  Discrete(6)\n"
          ]
        }
      ]
    },
    {
      "cell_type": "code",
      "source": [
        "# Use Hyperparameters from RL Zoo\n",
        "hyperparams = {\n",
        "    \"env_str\": env_str,\n",
        "    \"rl_type\": rl_type,\n",
        "    \"eval_freq\": 400_000,\n",
        "    \"buffer_size\": 100_000,\n",
        "    \"total_timesteps\": 5_000_000,\n",
        "    \"train_freq\": 4,\n",
        "    \"target_update_interval\": 1_000,\n",
        "    \"gradient_steps\": 1,\n",
        "    \"exploration_fraction\": 0.1,\n",
        "    \"exploration_final_eps\": 0.01,\n",
        "    \"n_envs\": 1,\n",
        "    \"batch_size\": 32,\n",
        "    \"learning_rate\":0.0001,\n",
        "    \"learning_starts\":100_000,\n",
        "    \"optimize_memory_usage\": False,\n",
        "}\n",
        "\n",
        "# atari:\n",
        "#   env_wrapper:\n",
        "#     - stable_baselines3.common.atari_wrappers.AtariWrapper\n",
        "#   frame_stack: 4\n",
        "#   policy: 'CnnPolicy'\n",
        "#   n_timesteps: !!float 1e7\n",
        "#   buffer_size: 100000\n",
        "#   learning_rate: !!float 1e-4\n",
        "#   batch_size: 32\n",
        "#   learning_starts: 100000\n",
        "#   target_update_interval: 1000\n",
        "#   train_freq: 4\n",
        "#   gradient_steps: 1\n",
        "#   exploration_fraction: 0.1\n",
        "#   exploration_final_eps: 0.01\n",
        "#   # If True, you need to deactivate handle_timeout_termination\n",
        "#   # in the replay_buffer_kwargs\n",
        "#   optimize_memory_usage: False"
      ],
      "metadata": {
        "id": "h0LNIo42gvAA"
      },
      "execution_count": 11,
      "outputs": []
    },
    {
      "cell_type": "code",
      "source": [
        "# Evaluation Environment Wrapper Arguments\n",
        "# Disable Frame Skipping\n",
        "# Disable Noop Max\n",
        "# https://danieltakeshi.github.io/2016/11/25/frame-skipping-and-preprocessing-for-deep-q-networks-on-atari-2600-games/\n",
        "# https://stable-baselines3.readthedocs.io/en/master/common/atari_wrappers.html\n",
        "\n",
        "# Training Aruguments\n",
        "env_wrap_args = {\"frame_skip\": 4}\n",
        "env_kwargs = {\"render_mode\": \"rgb_array\"}\n",
        "\n",
        "# Evaluation Aruguments\n",
        "env_val_wrap_args = {\"frame_skip\": 4, \"noop_max\": 30}\n",
        "env_val_kwargs = {\"render_mode\": \"rgb_array\"}\n",
        "\n",
        "if(env_str == \"ALE/Pong-v5\"):\n",
        "  env_wrap_args[\"frame_skip\"] = 0\n",
        "  env_val_kwargs[\"frameskip\"] = 32\n",
        "  env_val_kwargs[\"repeat_action_probability\"] = 0.0"
      ],
      "metadata": {
        "id": "1bgRLf7cUY-8"
      },
      "execution_count": 12,
      "outputs": []
    },
    {
      "cell_type": "code",
      "source": [
        "with open(os.path.join(model_folder_path, 'parameters.json'), 'w') as fp:\n",
        "    parameters = {\"hyperparams\": hyperparams,\n",
        "                  \"env_wrap_args\": env_wrap_args,\n",
        "                  \"env_kwargs\": env_kwargs,\n",
        "                  \"env_val_wrap_args\": env_val_wrap_args,\n",
        "                  \"env_val_kwargs\": env_val_kwargs}\n",
        "    json.dump(parameters, fp, indent=4)"
      ],
      "metadata": {
        "id": "2-oh3mrCI0hk"
      },
      "execution_count": 13,
      "outputs": []
    },
    {
      "cell_type": "code",
      "source": [
        "class VideoRecordCallback(BaseCallback):\n",
        "    def __init__(\n",
        "        self,\n",
        "        save_path: str,\n",
        "        video_length: int,\n",
        "        save_freq: int = 5_000,\n",
        "        name_prefix: str =\"rl_model\",\n",
        "        verbose: int = 0):\n",
        "\n",
        "        super().__init__(verbose)\n",
        "        self.save_freq = save_freq\n",
        "        self.video_length = video_length\n",
        "        self.save_path = save_path\n",
        "        self.name_prefix = name_prefix\n",
        "        # Those variables will be accessible in the callback\n",
        "        # (they are defined in the base class)\n",
        "        # The RL model\n",
        "        # self.model = None  # type: BaseAlgorithm\n",
        "        # An alias for self.model.get_env(), the environment used for training\n",
        "        # self.training_env # type: VecEnv\n",
        "        # Number of time the callback was called\n",
        "        # self.n_calls = 0  # type: int\n",
        "        # num_timesteps = n_envs * n times env.step() was called\n",
        "        # self.num_timesteps = 0  # type: int\n",
        "        # local and global variables\n",
        "        # self.locals = {}  # type: Dict[str, Any]\n",
        "        # self.globals = {}  # type: Dict[str, Any]\n",
        "        # The logger object, used to report things in the terminal\n",
        "        # self.logger # type: stable_baselines3.common.logger.Logger\n",
        "        # Sometimes, for event callback, it is useful\n",
        "        # to have access to the parent object\n",
        "        # self.parent = None  # type: Optional[BaseCallback]\n",
        "\n",
        "    def _on_step(self) -> bool:\n",
        "        if self.n_calls % self.save_freq == 0:\n",
        "\n",
        "          name_prefix = f\"{self.name_prefix}_{self.num_timesteps}\"\n",
        "\n",
        "          # Record video of the best model playing Atari's Environment\n",
        "          rec_val = make_atari_env(\n",
        "              env_str,\n",
        "              n_envs=1,\n",
        "              seed=1)\n",
        "          rec_val = VecFrameStack(rec_val, n_stack=4)\n",
        "          rec_val = VecTransposeImage(rec_val)\n",
        "          rec_val = VecVideoRecorder(rec_val,\n",
        "                                    self.save_path,\n",
        "                                    video_length=self.video_length,\n",
        "                                    record_video_trigger=lambda x: x == 0,\n",
        "                                    name_prefix=name_prefix)\n",
        "\n",
        "          obs = rec_val.reset()\n",
        "          for _ in range(self.video_length):\n",
        "              action, _states = self.model.predict(obs)\n",
        "              obs, rewards, dones, info = rec_val.step(action)\n",
        "              rec_val.render()\n",
        "              if dones:\n",
        "                break\n",
        "\n",
        "          rec_val.close()\n",
        "        return True"
      ],
      "metadata": {
        "id": "XxdvhhHvw-1O"
      },
      "execution_count": 14,
      "outputs": []
    },
    {
      "cell_type": "code",
      "source": [
        "# Create the Training Atari's Pong environment with appropriate wrappers\n",
        "env = make_atari_env(env_str,\n",
        "                     n_envs=hyperparams[\"n_envs\"],\n",
        "                     seed=0,\n",
        "                     monitor_dir=os.path.join(model_folder_path, \"monitor\"))\n",
        "env = VecFrameStack(env, n_stack=4)\n",
        "env = VecTransposeImage(env)\n",
        "\n",
        "# Create the Evaluation Atari's Pong environment with appropriate wrappers\n",
        "env_val = make_atari_env(env_str,\n",
        "                         n_envs=1,\n",
        "                         seed=1)\n",
        "env_val = VecFrameStack(env_val, n_stack=4)\n",
        "env_val = VecTransposeImage(env_val)"
      ],
      "metadata": {
        "id": "OxXLoo7erYVa"
      },
      "execution_count": 15,
      "outputs": []
    },
    {
      "cell_type": "code",
      "source": [
        "# Create Callbacks\n",
        "# Create Evaluation Callback\n",
        "# eval_freq - can cause learning instability if set to low\n",
        "eval_callback = EvalCallback(\n",
        "    env_val,\n",
        "    best_model_save_path=model_folder_path,\n",
        "    log_path=model_folder_path,\n",
        "    eval_freq=hyperparams[\"eval_freq\"],\n",
        "    render=False,\n",
        "    deterministic=True,\n",
        "    n_eval_episodes=5)\n",
        "\n",
        "# Create Checkpoint Callback\n",
        "checkpoint_callback = CheckpointCallback(\n",
        "    save_freq=hyperparams[\"eval_freq\"],\n",
        "    save_path=os.path.join(model_folder_path, \"checkpoints\"),\n",
        "    name_prefix=name_prefix,\n",
        "    save_replay_buffer=False,\n",
        "    save_vecnormalize=False,\n",
        ")\n",
        "\n",
        "video_record_callback = VideoRecordCallback(\n",
        "    save_path=os.path.join(model_folder_path, \"videos\"),\n",
        "    video_length=2_500,\n",
        "    save_freq=hyperparams[\"eval_freq\"],\n",
        "    name_prefix=name_prefix)\n",
        "\n",
        "# Create the callback list\n",
        "callbackList = CallbackList([checkpoint_callback,\n",
        "                             video_record_callback,\n",
        "                             eval_callback])"
      ],
      "metadata": {
        "id": "_wLI5Z46rstT"
      },
      "execution_count": 16,
      "outputs": []
    },
    {
      "cell_type": "code",
      "execution_count": 17,
      "metadata": {
        "id": "SvPXWTCHiO69",
        "outputId": "a1306f16-5172-4ad6-a546-4d6443ef4824",
        "colab": {
          "base_uri": "https://localhost:8080/"
        }
      },
      "outputs": [
        {
          "metadata": {
            "tags": null
          },
          "name": "stderr",
          "output_type": "stream",
          "text": [
            "/usr/local/lib/python3.10/dist-packages/moviepy/config_defaults.py:1: DeprecationWarning: invalid escape sequence '\\P'\n",
            "  \"\"\"\n"
          ]
        },
        {
          "metadata": {
            "tags": null
          },
          "name": "stdout",
          "output_type": "stream",
          "text": [
            "Moviepy - Building video /content/gdrive/MyDrive/Finding Theta/logs/PongNoFrameskip-v4/DQN/training jobs/2024-12-19 19:31:52/videos/atari_pong_dqn_400000-step-0-to-step-2500.mp4.\n",
            "Moviepy - Writing video /content/gdrive/MyDrive/Finding Theta/logs/PongNoFrameskip-v4/DQN/training jobs/2024-12-19 19:31:52/videos/atari_pong_dqn_400000-step-0-to-step-2500.mp4\n",
            "\n"
          ]
        },
        {
          "metadata": {
            "tags": null
          },
          "name": "stderr",
          "output_type": "stream",
          "text": [
            ""
          ]
        },
        {
          "metadata": {
            "tags": null
          },
          "name": "stdout",
          "output_type": "stream",
          "text": [
            "Moviepy - Done !\n",
            "Moviepy - video ready /content/gdrive/MyDrive/Finding Theta/logs/PongNoFrameskip-v4/DQN/training jobs/2024-12-19 19:31:52/videos/atari_pong_dqn_400000-step-0-to-step-2500.mp4\n",
            "Eval num_timesteps=400000, episode_reward=-15.40 +/- 2.15\n",
            "Episode length: 7660.20 +/- 118.58\n",
            "New best mean reward!\n",
            "Saving video to /content/gdrive/MyDrive/Finding Theta/logs/PongNoFrameskip-v4/DQN/training jobs/2024-12-19 19:31:52/videos/atari_pong_dqn_800000-step-0-to-step-2500.mp4\n",
            "Moviepy - Building video /content/gdrive/MyDrive/Finding Theta/logs/PongNoFrameskip-v4/DQN/training jobs/2024-12-19 19:31:52/videos/atari_pong_dqn_800000-step-0-to-step-2500.mp4.\n",
            "Moviepy - Writing video /content/gdrive/MyDrive/Finding Theta/logs/PongNoFrameskip-v4/DQN/training jobs/2024-12-19 19:31:52/videos/atari_pong_dqn_800000-step-0-to-step-2500.mp4\n",
            "\n"
          ]
        },
        {
          "metadata": {
            "tags": null
          },
          "name": "stderr",
          "output_type": "stream",
          "text": [
            ""
          ]
        },
        {
          "metadata": {
            "tags": null
          },
          "name": "stdout",
          "output_type": "stream",
          "text": [
            "Moviepy - Done !\n",
            "Moviepy - video ready /content/gdrive/MyDrive/Finding Theta/logs/PongNoFrameskip-v4/DQN/training jobs/2024-12-19 19:31:52/videos/atari_pong_dqn_800000-step-0-to-step-2500.mp4\n",
            "Eval num_timesteps=800000, episode_reward=-4.20 +/- 0.40\n",
            "Episode length: 12797.00 +/- 426.00\n",
            "New best mean reward!\n",
            "Moviepy - Building video /content/gdrive/MyDrive/Finding Theta/logs/PongNoFrameskip-v4/DQN/training jobs/2024-12-19 19:31:52/videos/atari_pong_dqn_1200000-step-0-to-step-2500.mp4.\n",
            "Moviepy - Writing video /content/gdrive/MyDrive/Finding Theta/logs/PongNoFrameskip-v4/DQN/training jobs/2024-12-19 19:31:52/videos/atari_pong_dqn_1200000-step-0-to-step-2500.mp4\n",
            "\n"
          ]
        },
        {
          "metadata": {
            "tags": null
          },
          "name": "stderr",
          "output_type": "stream",
          "text": [
            ""
          ]
        },
        {
          "metadata": {
            "tags": null
          },
          "name": "stdout",
          "output_type": "stream",
          "text": [
            "Moviepy - Done !\n",
            "Moviepy - video ready /content/gdrive/MyDrive/Finding Theta/logs/PongNoFrameskip-v4/DQN/training jobs/2024-12-19 19:31:52/videos/atari_pong_dqn_1200000-step-0-to-step-2500.mp4\n",
            "Eval num_timesteps=1200000, episode_reward=18.80 +/- 0.40\n",
            "Episode length: 7639.20 +/- 100.10\n",
            "New best mean reward!\n",
            "Moviepy - Building video /content/gdrive/MyDrive/Finding Theta/logs/PongNoFrameskip-v4/DQN/training jobs/2024-12-19 19:31:52/videos/atari_pong_dqn_1600000-step-0-to-step-2500.mp4.\n",
            "Moviepy - Writing video /content/gdrive/MyDrive/Finding Theta/logs/PongNoFrameskip-v4/DQN/training jobs/2024-12-19 19:31:52/videos/atari_pong_dqn_1600000-step-0-to-step-2500.mp4\n",
            "\n"
          ]
        },
        {
          "metadata": {
            "tags": null
          },
          "name": "stderr",
          "output_type": "stream",
          "text": [
            ""
          ]
        },
        {
          "metadata": {
            "tags": null
          },
          "name": "stdout",
          "output_type": "stream",
          "text": [
            "Moviepy - Done !\n",
            "Moviepy - video ready /content/gdrive/MyDrive/Finding Theta/logs/PongNoFrameskip-v4/DQN/training jobs/2024-12-19 19:31:52/videos/atari_pong_dqn_1600000-step-0-to-step-2500.mp4\n",
            "Eval num_timesteps=1600000, episode_reward=20.80 +/- 0.40\n",
            "Episode length: 6638.80 +/- 34.88\n",
            "New best mean reward!\n",
            "Moviepy - Building video /content/gdrive/MyDrive/Finding Theta/logs/PongNoFrameskip-v4/DQN/training jobs/2024-12-19 19:31:52/videos/atari_pong_dqn_2000000-step-0-to-step-2500.mp4.\n",
            "Moviepy - Writing video /content/gdrive/MyDrive/Finding Theta/logs/PongNoFrameskip-v4/DQN/training jobs/2024-12-19 19:31:52/videos/atari_pong_dqn_2000000-step-0-to-step-2500.mp4\n",
            "\n"
          ]
        },
        {
          "metadata": {
            "tags": null
          },
          "name": "stderr",
          "output_type": "stream",
          "text": [
            ""
          ]
        },
        {
          "metadata": {
            "tags": null
          },
          "name": "stdout",
          "output_type": "stream",
          "text": [
            "Moviepy - Done !\n",
            "Moviepy - video ready /content/gdrive/MyDrive/Finding Theta/logs/PongNoFrameskip-v4/DQN/training jobs/2024-12-19 19:31:52/videos/atari_pong_dqn_2000000-step-0-to-step-2500.mp4\n",
            "Eval num_timesteps=2000000, episode_reward=20.80 +/- 0.40\n",
            "Episode length: 6712.80 +/- 154.60\n",
            "Moviepy - Building video /content/gdrive/MyDrive/Finding Theta/logs/PongNoFrameskip-v4/DQN/training jobs/2024-12-19 19:31:52/videos/atari_pong_dqn_2400000-step-0-to-step-2500.mp4.\n",
            "Moviepy - Writing video /content/gdrive/MyDrive/Finding Theta/logs/PongNoFrameskip-v4/DQN/training jobs/2024-12-19 19:31:52/videos/atari_pong_dqn_2400000-step-0-to-step-2500.mp4\n",
            "\n"
          ]
        },
        {
          "metadata": {
            "tags": null
          },
          "name": "stderr",
          "output_type": "stream",
          "text": [
            ""
          ]
        },
        {
          "output_type": "stream",
          "name": "stdout",
          "text": [
            "Moviepy - Done !\n",
            "Moviepy - video ready /content/gdrive/MyDrive/Finding Theta/logs/PongNoFrameskip-v4/DQN/training jobs/2024-12-19 19:31:52/videos/atari_pong_dqn_2400000-step-0-to-step-2500.mp4\n",
            "Eval num_timesteps=2400000, episode_reward=21.00 +/- 0.00\n",
            "Episode length: 6637.40 +/- 1.50\n",
            "New best mean reward!\n",
            "Moviepy - Building video /content/gdrive/MyDrive/Finding Theta/logs/PongNoFrameskip-v4/DQN/training jobs/2024-12-19 19:31:52/videos/atari_pong_dqn_2800000-step-0-to-step-2500.mp4.\n",
            "Moviepy - Writing video /content/gdrive/MyDrive/Finding Theta/logs/PongNoFrameskip-v4/DQN/training jobs/2024-12-19 19:31:52/videos/atari_pong_dqn_2800000-step-0-to-step-2500.mp4\n",
            "\n"
          ]
        },
        {
          "output_type": "stream",
          "name": "stderr",
          "text": []
        },
        {
          "output_type": "stream",
          "name": "stdout",
          "text": [
            "Moviepy - Done !\n",
            "Moviepy - video ready /content/gdrive/MyDrive/Finding Theta/logs/PongNoFrameskip-v4/DQN/training jobs/2024-12-19 19:31:52/videos/atari_pong_dqn_2800000-step-0-to-step-2500.mp4\n",
            "Eval num_timesteps=2800000, episode_reward=21.00 +/- 0.00\n",
            "Episode length: 6636.60 +/- 0.80\n",
            "Moviepy - Building video /content/gdrive/MyDrive/Finding Theta/logs/PongNoFrameskip-v4/DQN/training jobs/2024-12-19 19:31:52/videos/atari_pong_dqn_3200000-step-0-to-step-2500.mp4.\n",
            "Moviepy - Writing video /content/gdrive/MyDrive/Finding Theta/logs/PongNoFrameskip-v4/DQN/training jobs/2024-12-19 19:31:52/videos/atari_pong_dqn_3200000-step-0-to-step-2500.mp4\n",
            "\n"
          ]
        },
        {
          "output_type": "stream",
          "name": "stderr",
          "text": []
        },
        {
          "output_type": "stream",
          "name": "stdout",
          "text": [
            "Moviepy - Done !\n",
            "Moviepy - video ready /content/gdrive/MyDrive/Finding Theta/logs/PongNoFrameskip-v4/DQN/training jobs/2024-12-19 19:31:52/videos/atari_pong_dqn_3200000-step-0-to-step-2500.mp4\n",
            "Eval num_timesteps=3200000, episode_reward=21.00 +/- 0.00\n",
            "Episode length: 6637.20 +/- 0.98\n",
            "Moviepy - Building video /content/gdrive/MyDrive/Finding Theta/logs/PongNoFrameskip-v4/DQN/training jobs/2024-12-19 19:31:52/videos/atari_pong_dqn_3600000-step-0-to-step-2500.mp4.\n",
            "Moviepy - Writing video /content/gdrive/MyDrive/Finding Theta/logs/PongNoFrameskip-v4/DQN/training jobs/2024-12-19 19:31:52/videos/atari_pong_dqn_3600000-step-0-to-step-2500.mp4\n",
            "\n"
          ]
        },
        {
          "output_type": "stream",
          "name": "stderr",
          "text": []
        },
        {
          "output_type": "stream",
          "name": "stdout",
          "text": [
            "Moviepy - Done !\n",
            "Moviepy - video ready /content/gdrive/MyDrive/Finding Theta/logs/PongNoFrameskip-v4/DQN/training jobs/2024-12-19 19:31:52/videos/atari_pong_dqn_3600000-step-0-to-step-2500.mp4\n",
            "Eval num_timesteps=3600000, episode_reward=21.00 +/- 0.00\n",
            "Episode length: 6636.60 +/- 0.80\n",
            "Moviepy - Building video /content/gdrive/MyDrive/Finding Theta/logs/PongNoFrameskip-v4/DQN/training jobs/2024-12-19 19:31:52/videos/atari_pong_dqn_4000000-step-0-to-step-2500.mp4.\n",
            "Moviepy - Writing video /content/gdrive/MyDrive/Finding Theta/logs/PongNoFrameskip-v4/DQN/training jobs/2024-12-19 19:31:52/videos/atari_pong_dqn_4000000-step-0-to-step-2500.mp4\n",
            "\n"
          ]
        },
        {
          "output_type": "stream",
          "name": "stderr",
          "text": []
        },
        {
          "output_type": "stream",
          "name": "stdout",
          "text": [
            "Moviepy - Done !\n",
            "Moviepy - video ready /content/gdrive/MyDrive/Finding Theta/logs/PongNoFrameskip-v4/DQN/training jobs/2024-12-19 19:31:52/videos/atari_pong_dqn_4000000-step-0-to-step-2500.mp4\n",
            "Eval num_timesteps=4000000, episode_reward=21.00 +/- 0.00\n",
            "Episode length: 6614.20 +/- 1.60\n",
            "Moviepy - Building video /content/gdrive/MyDrive/Finding Theta/logs/PongNoFrameskip-v4/DQN/training jobs/2024-12-19 19:31:52/videos/atari_pong_dqn_4400000-step-0-to-step-2500.mp4.\n",
            "Moviepy - Writing video /content/gdrive/MyDrive/Finding Theta/logs/PongNoFrameskip-v4/DQN/training jobs/2024-12-19 19:31:52/videos/atari_pong_dqn_4400000-step-0-to-step-2500.mp4\n",
            "\n"
          ]
        },
        {
          "output_type": "stream",
          "name": "stderr",
          "text": []
        },
        {
          "output_type": "stream",
          "name": "stdout",
          "text": [
            "Moviepy - Done !\n",
            "Moviepy - video ready /content/gdrive/MyDrive/Finding Theta/logs/PongNoFrameskip-v4/DQN/training jobs/2024-12-19 19:31:52/videos/atari_pong_dqn_4400000-step-0-to-step-2500.mp4\n",
            "Eval num_timesteps=4400000, episode_reward=21.00 +/- 0.00\n",
            "Episode length: 6687.00 +/- 84.10\n",
            "Moviepy - Building video /content/gdrive/MyDrive/Finding Theta/logs/PongNoFrameskip-v4/DQN/training jobs/2024-12-19 19:31:52/videos/atari_pong_dqn_4800000-step-0-to-step-2500.mp4.\n",
            "Moviepy - Writing video /content/gdrive/MyDrive/Finding Theta/logs/PongNoFrameskip-v4/DQN/training jobs/2024-12-19 19:31:52/videos/atari_pong_dqn_4800000-step-0-to-step-2500.mp4\n",
            "\n"
          ]
        },
        {
          "output_type": "stream",
          "name": "stderr",
          "text": []
        },
        {
          "output_type": "stream",
          "name": "stdout",
          "text": [
            "Moviepy - Done !\n",
            "Moviepy - video ready /content/gdrive/MyDrive/Finding Theta/logs/PongNoFrameskip-v4/DQN/training jobs/2024-12-19 19:31:52/videos/atari_pong_dqn_4800000-step-0-to-step-2500.mp4\n",
            "Eval num_timesteps=4800000, episode_reward=20.40 +/- 1.20\n",
            "Episode length: 6808.60 +/- 267.63\n"
          ]
        }
      ],
      "source": [
        "# Initialize DQN\n",
        "model = DQN('CnnPolicy',\n",
        "            env,\n",
        "            verbose=0,\n",
        "            buffer_size=hyperparams[\"buffer_size\"],\n",
        "            batch_size=hyperparams[\"batch_size\"],\n",
        "            learning_rate=hyperparams[\"learning_rate\"],\n",
        "            learning_starts=hyperparams[\"learning_starts\"],\n",
        "            train_freq=hyperparams[\"train_freq\"],\n",
        "            gradient_steps=hyperparams[\"gradient_steps\"],\n",
        "            target_update_interval=hyperparams[\"target_update_interval\"],\n",
        "            exploration_fraction=hyperparams[\"exploration_fraction\"],\n",
        "            exploration_final_eps=hyperparams[\"exploration_final_eps\"],\n",
        "            optimize_memory_usage=hyperparams[\"optimize_memory_usage\"],\n",
        "            tensorboard_log=os.path.join(log_dir, \"tensorboard\"))\n",
        "\n",
        "# Train the model\n",
        "model.learn(total_timesteps=hyperparams[\"total_timesteps\"],\n",
        "            progress_bar=False,\n",
        "            callback=callbackList)\n",
        "\n",
        "# Save the trained model\n",
        "model.save(os.path.join(model_folder_path, \"final_model\"))\n",
        "\n",
        "env.close()\n",
        "env_val.close()"
      ]
    },
    {
      "cell_type": "code",
      "source": [
        "# # Get model path from last training job (uncomment if training job interrupted)\n",
        "# # List all entries in the directory\n",
        "# entries = os.listdir(training_data_path)\n",
        "\n",
        "# # Filter out only directories\n",
        "# folders = [entry for entry in entries if os.path.isdir(os.path.join(training_data_path, entry))]\n",
        "\n",
        "# # Sort the folders alphabetically\n",
        "# folders.sort()\n",
        "\n",
        "# # Get the last folder\n",
        "# model_folder_path = os.path.join(training_data_path, folders[-1])\n",
        "# print(model_folder_path)"
      ],
      "metadata": {
        "id": "DFZCWZfHlSv8",
        "outputId": "951cc278-662e-464a-fbf2-0abca7a4d1ad",
        "colab": {
          "base_uri": "https://localhost:8080/"
        }
      },
      "execution_count": 18,
      "outputs": [
        {
          "metadata": {
            "tags": null
          },
          "name": "stderr",
          "output_type": "stream",
          "text": [
            "/usr/local/lib/python3.10/dist-packages/ipykernel/ipkernel.py:283: DeprecationWarning: `should_run_async` will not call `transform_cell` automatically in the future. Please pass the result to `transformed_cell` argument and any exception that happen during thetransform in `preprocessing_exc_tuple` in IPython 7.17 and above.\n",
            "  and should_run_async(code)\n"
          ]
        }
      ]
    },
    {
      "cell_type": "markdown",
      "source": [
        "## Elevate Best Model and Record Playback"
      ],
      "metadata": {
        "id": "iL354gSDOsiV"
      }
    },
    {
      "cell_type": "code",
      "source": [
        "# Create the Evaluation Atari's Pong environment with appropriate wrappers\n",
        "env_val = make_atari_env(env_str,\n",
        "                         n_envs=1,\n",
        "                         seed=1)\n",
        "env_val = VecFrameStack(env_val, n_stack=4)\n",
        "env_val = VecTransposeImage(env_val)\n",
        "\n",
        "# Load the best model\n",
        "best_model_path = os.path.join(model_folder_path, \"best_model\")\n",
        "best_model = DQN.load(best_model_path, env=env_val)\n",
        "\n",
        "mean_reward, std_reward = evaluate_policy(\n",
        "    best_model,\n",
        "    env_val,\n",
        "    n_eval_episodes=5)\n",
        "print(f\"Best Model - Mean reward: {mean_reward:.2f} +/- {std_reward:.2f}\")\n",
        "\n",
        "best_metrics_path = os.path.join(log_dir, \"best_model_metrics.csv\")\n",
        "\n",
        "# Create Best Model Metrics file if not there\n",
        "if(not os.path.isfile(best_metrics_path)):\n",
        "  with open(best_metrics_path, 'w', newline='') as csvfile:\n",
        "    writer = csv.writer(csvfile)\n",
        "    writer.writerow([\"run_date\",\n",
        "                     \"batch_size\",\n",
        "                     \"learning_rate\",\n",
        "                     \"num_timesteps\",\n",
        "                     \"mean_reward\",\n",
        "                     \"std_reward\",\n",
        "                     \"n_envs\",\n",
        "                     \"gamma\",\n",
        "                     \"seed\"])\n",
        "\n",
        "new_data = [os.path.basename(os.path.normpath(model_folder_path)),\n",
        "            best_model.batch_size,\n",
        "            best_model.learning_rate,\n",
        "            best_model.num_timesteps,\n",
        "            mean_reward,\n",
        "            std_reward,\n",
        "            best_model.n_envs,\n",
        "            best_model.gamma,\n",
        "            best_model.seed]\n",
        "\n",
        "with open(best_metrics_path, 'a', newline='') as csvfile:\n",
        "    writer = csv.writer(csvfile)\n",
        "    writer.writerow(new_data)\n",
        "\n",
        "# Record video of the best model playing Atari's Pong\n",
        "rec_val = VecVideoRecorder(env_val,\n",
        "                           os.path.join(model_folder_path, \"videos\"),\n",
        "                           video_length=5000,\n",
        "                           record_video_trigger=lambda x: x == 0,\n",
        "                           name_prefix=\"best_model_{}\".format(name_prefix))\n",
        "\n",
        "obs = rec_val.reset()\n",
        "for _ in range(5000):\n",
        "    action, _states = best_model.predict(obs)\n",
        "    obs, rewards, dones, info = rec_val.step(action)\n",
        "    rec_val.render()\n",
        "    if dones:\n",
        "      break\n",
        "\n",
        "env_val.close()\n",
        "rec_val.close()"
      ],
      "metadata": {
        "id": "OqwJT0bhcOu0",
        "colab": {
          "base_uri": "https://localhost:8080/"
        },
        "outputId": "89d60efc-3e8b-4303-ea36-342ae0516c92"
      },
      "execution_count": 19,
      "outputs": [
        {
          "output_type": "stream",
          "name": "stderr",
          "text": [
            "/usr/local/lib/python3.10/dist-packages/stable_baselines3/common/buffers.py:241: UserWarning: This system does not have apparently enough memory to store the complete replay buffer 5.65GB > 4.35GB\n",
            "  warnings.warn(\n"
          ]
        },
        {
          "output_type": "stream",
          "name": "stdout",
          "text": [
            "Best Model - Mean reward: 21.00 +/- 0.00\n",
            "Moviepy - Building video /content/gdrive/MyDrive/Finding Theta/logs/PongNoFrameskip-v4/DQN/training jobs/2024-12-19 19:31:52/videos/best_model_atari_pong_dqn-step-0-to-step-5000.mp4.\n",
            "Moviepy - Writing video /content/gdrive/MyDrive/Finding Theta/logs/PongNoFrameskip-v4/DQN/training jobs/2024-12-19 19:31:52/videos/best_model_atari_pong_dqn-step-0-to-step-5000.mp4\n",
            "\n"
          ]
        },
        {
          "output_type": "stream",
          "name": "stderr",
          "text": [
            "                                                                 "
          ]
        },
        {
          "output_type": "stream",
          "name": "stdout",
          "text": [
            "Moviepy - Done !\n",
            "Moviepy - video ready /content/gdrive/MyDrive/Finding Theta/logs/PongNoFrameskip-v4/DQN/training jobs/2024-12-19 19:31:52/videos/best_model_atari_pong_dqn-step-0-to-step-5000.mp4\n"
          ]
        },
        {
          "output_type": "stream",
          "name": "stderr",
          "text": [
            "\r"
          ]
        }
      ]
    },
    {
      "cell_type": "code",
      "source": [
        "# Print Model\n",
        "print(best_model.policy)"
      ],
      "metadata": {
        "id": "5omjtaubDH1U",
        "colab": {
          "base_uri": "https://localhost:8080/"
        },
        "outputId": "2b91ef7c-68a7-4108-d66a-99971b961c2c"
      },
      "execution_count": 20,
      "outputs": [
        {
          "output_type": "stream",
          "name": "stdout",
          "text": [
            "CnnPolicy(\n",
            "  (q_net): QNetwork(\n",
            "    (features_extractor): NatureCNN(\n",
            "      (cnn): Sequential(\n",
            "        (0): Conv2d(4, 32, kernel_size=(8, 8), stride=(4, 4))\n",
            "        (1): ReLU()\n",
            "        (2): Conv2d(32, 64, kernel_size=(4, 4), stride=(2, 2))\n",
            "        (3): ReLU()\n",
            "        (4): Conv2d(64, 64, kernel_size=(3, 3), stride=(1, 1))\n",
            "        (5): ReLU()\n",
            "        (6): Flatten(start_dim=1, end_dim=-1)\n",
            "      )\n",
            "      (linear): Sequential(\n",
            "        (0): Linear(in_features=3136, out_features=512, bias=True)\n",
            "        (1): ReLU()\n",
            "      )\n",
            "    )\n",
            "    (q_net): Sequential(\n",
            "      (0): Linear(in_features=512, out_features=6, bias=True)\n",
            "    )\n",
            "  )\n",
            "  (q_net_target): QNetwork(\n",
            "    (features_extractor): NatureCNN(\n",
            "      (cnn): Sequential(\n",
            "        (0): Conv2d(4, 32, kernel_size=(8, 8), stride=(4, 4))\n",
            "        (1): ReLU()\n",
            "        (2): Conv2d(32, 64, kernel_size=(4, 4), stride=(2, 2))\n",
            "        (3): ReLU()\n",
            "        (4): Conv2d(64, 64, kernel_size=(3, 3), stride=(1, 1))\n",
            "        (5): ReLU()\n",
            "        (6): Flatten(start_dim=1, end_dim=-1)\n",
            "      )\n",
            "      (linear): Sequential(\n",
            "        (0): Linear(in_features=3136, out_features=512, bias=True)\n",
            "        (1): ReLU()\n",
            "      )\n",
            "    )\n",
            "    (q_net): Sequential(\n",
            "      (0): Linear(in_features=512, out_features=6, bias=True)\n",
            "    )\n",
            "  )\n",
            ")\n"
          ]
        }
      ]
    },
    {
      "cell_type": "code",
      "source": [
        "# Load the evaluations.npz file\n",
        "data = numpy.load(os.path.join(model_folder_path, \"evaluations.npz\"))\n",
        "\n",
        "# Extract the relevant data\n",
        "timesteps = data['timesteps']\n",
        "results = data['results']\n",
        "\n",
        "# Calculate the mean and standard deviation of the results\n",
        "mean_results = numpy.mean(results, axis=1)\n",
        "std_results = numpy.std(results, axis=1)\n",
        "\n",
        "# Plot the results\n",
        "matplotlib.pyplot.figure()\n",
        "matplotlib.pyplot.plot(timesteps, mean_results)\n",
        "matplotlib.pyplot.fill_between(timesteps,\n",
        "                               mean_results - std_results,\n",
        "                               mean_results + std_results,\n",
        "                               alpha=0.3)\n",
        "\n",
        "matplotlib.pyplot.xlabel('Timesteps')\n",
        "matplotlib.pyplot.ylabel('Mean Reward')\n",
        "matplotlib.pyplot.title(f\"{rl_type} Performance on {env_str}\")\n",
        "matplotlib.pyplot.show()"
      ],
      "metadata": {
        "id": "Xisgp9SfcONO",
        "colab": {
          "base_uri": "https://localhost:8080/",
          "height": 472
        },
        "outputId": "3362539b-6b85-4b81-d37b-15217135498f"
      },
      "execution_count": 21,
      "outputs": [
        {
          "output_type": "display_data",
          "data": {
            "text/plain": [
              "<Figure size 640x480 with 1 Axes>"
            ],
            "image/png": "[encoded data removed]"
          },
          "metadata": {}
        }
      ]
    },
    {
      "cell_type": "code",
      "source": [],
      "metadata": {
        "id": "MzQUPGhnyYjT"
      },
      "execution_count": 21,
      "outputs": []
    }
  ]
}